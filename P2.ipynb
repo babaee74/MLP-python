{
  "nbformat": 4,
  "nbformat_minor": 0,
  "metadata": {
    "colab": {
      "provenance": [],
      "toc_visible": true
    },
    "kernelspec": {
      "display_name": "Python 3",
      "language": "python",
      "name": "python3"
    },
    "language_info": {
      "codemirror_mode": {
        "name": "ipython",
        "version": 3
      },
      "file_extension": ".py",
      "mimetype": "text/x-python",
      "name": "python",
      "nbconvert_exporter": "python",
      "pygments_lexer": "ipython3",
      "version": "3.6.9"
    }
  },
  "cells": [
    {
      "cell_type": "markdown",
      "metadata": {
        "id": "ukelZpfQqJnA"
      },
      "source": [
        "# Building simple Nueral Network with python:\n",
        "This is main workflow and functions you need. but if there is something missing or you need to add more or remove something feel free to try it.  \n",
        "**JUST dont change _VanilaNN_ class methods**(their argumants only)"
      ]
    },
    {
      "cell_type": "markdown",
      "metadata": {
        "id": "ogf1BCcuqJnC"
      },
      "source": [
        "## import packages:\n"
      ]
    },
    {
      "cell_type": "code",
      "metadata": {
        "id": "s5s_nmxhEVCB"
      },
      "source": [
        "from tensorflow.keras.datasets import mnist\n",
        "import numpy as np\n",
        "np.random.seed(37) #dont change this line\n",
        "\n",
        "from matplotlib import pyplot as plt\n",
        "%matplotlib inline\n",
        "from sklearn.preprocessing import OneHotEncoder\n",
        "from progressbar import ProgressBar"
      ],
      "execution_count": null,
      "outputs": []
    },
    {
      "cell_type": "markdown",
      "metadata": {
        "id": "Ybw6S01_qJnJ"
      },
      "source": [
        "## download and prepare dataset"
      ]
    },
    {
      "cell_type": "code",
      "metadata": {
        "id": "O_vHFjA5FzbP",
        "outputId": "c4355d64-7b46-4fe6-9ab2-c83689f0777b",
        "colab": {
          "base_uri": "https://localhost:8080/"
        }
      },
      "source": [
        "# download dataset\n",
        "(x_train, y_train), (x_test, y_test) = mnist.load_data()"
      ],
      "execution_count": null,
      "outputs": [
        {
          "output_type": "stream",
          "text": [
            "Downloading data from https://storage.googleapis.com/tensorflow/tf-keras-datasets/mnist.npz\n",
            "11493376/11490434 [==============================] - 0s 0us/step\n"
          ],
          "name": "stdout"
        }
      ]
    },
    {
      "cell_type": "markdown",
      "metadata": {
        "id": "Gfko_ph6qJnP"
      },
      "source": [
        "## Visualize dataset:"
      ]
    },
    {
      "cell_type": "code",
      "metadata": {
        "id": "ZsITvrNnqJnQ",
        "outputId": "4ec3cf7c-cf74-4d5c-f888-d606f3bebdf8",
        "colab": {
          "base_uri": "https://localhost:8080/",
          "height": 261
        }
      },
      "source": [
        "print('x_train shape: ',x_train.shape,'y_train shape: ', y_train.shape)\n",
        "print('x_test shape: ',x_test.shape,'y_test shape: ', y_test.shape)\n",
        "for i in range(10):\n",
        "    plt.subplot(2, 5, i+1)\n",
        "    plt.imshow(x_train[i,:,:], cmap = \"gray\")"
      ],
      "execution_count": null,
      "outputs": [
        {
          "output_type": "stream",
          "text": [
            "x_train shape:  (60000, 28, 28) y_train shape:  (60000,)\n",
            "x_test shape:  (10000, 28, 28) y_test shape:  (10000,)\n"
          ],
          "name": "stdout"
        },
        {
          "output_type": "display_data",
          "data": {
            "image/png": "[encoded data removed]",
            "text/plain": [
              "<Figure size 432x288 with 10 Axes>"
            ]
          },
          "metadata": {
            "tags": [],
            "needs_background": "light"
          }
        }
      ]
    },
    {
      "cell_type": "code",
      "metadata": {
        "id": "p8uDme7uzklH"
      },
      "source": [
        "enc = OneHotEncoder(handle_unknown='ignore')\n",
        "Y_train1 = y_train.reshape(-1,1)\n",
        "enc.fit(Y_train1)\n",
        "Y_train1 = enc.transform(Y_train1).toarray()\n",
        "Y_test1 = y_test.reshape(-1,1)\n",
        "enc.fit(Y_test1)\n",
        "Y_test1 = enc.transform(Y_test1).toarray()"
      ],
      "execution_count": null,
      "outputs": []
    },
    {
      "cell_type": "code",
      "metadata": {
        "id": "uWns4BDVz8OV",
        "outputId": "bed90a47-d321-4ec3-9f67-b1b94caf3099",
        "colab": {
          "base_uri": "https://localhost:8080/"
        }
      },
      "source": [
        "X_train = x_train.reshape(x_train.shape[0], x_train.shape[1]*x_train.shape[2])\n",
        "X_test = x_test.reshape(x_test.shape[0], x_test.shape[1]*x_test.shape[2])\n",
        "print(X_train.shape, X_test.shape)"
      ],
      "execution_count": null,
      "outputs": [
        {
          "output_type": "stream",
          "text": [
            "(60000, 784) (10000, 784)\n"
          ],
          "name": "stdout"
        }
      ]
    },
    {
      "cell_type": "code",
      "metadata": {
        "id": "4FR6fwvD009E",
        "outputId": "994aa091-5ff0-428b-a6dd-da5482b619f2",
        "colab": {
          "base_uri": "https://localhost:8080/"
        }
      },
      "source": [
        "Xtrain = X_train.T/255.0\n",
        "Xtest = X_test.T/255.0\n",
        "print(Xtrain.shape, Xtest.shape)"
      ],
      "execution_count": null,
      "outputs": [
        {
          "output_type": "stream",
          "text": [
            "(784, 60000) (784, 10000)\n"
          ],
          "name": "stdout"
        }
      ]
    },
    {
      "cell_type": "code",
      "metadata": {
        "id": "ATG4125J0igE",
        "outputId": "382d5076-f83c-4b4e-9ad3-13a99d4a6603",
        "colab": {
          "base_uri": "https://localhost:8080/"
        }
      },
      "source": [
        "Y_train1 = Y_train1.T\n",
        "Y_test1 = Y_test1.T\n",
        "print(Y_train1.shape)"
      ],
      "execution_count": null,
      "outputs": [
        {
          "output_type": "stream",
          "text": [
            "(10, 60000)\n"
          ],
          "name": "stdout"
        }
      ]
    },
    {
      "cell_type": "markdown",
      "metadata": {
        "id": "R4QelzSHqJnV"
      },
      "source": [
        "# define model:\n"
      ]
    },
    {
      "cell_type": "code",
      "metadata": {
        "id": "srTAZxSiEVCM"
      },
      "source": [
        "def linear(x):\n",
        "  #put your code here\n",
        "  # :)\n",
        "  return x\n",
        "\n",
        "def sigmoid(x):\n",
        "  #put your code here\n",
        "  x = 1/(1 + np.exp(-x))\n",
        "  return x\n",
        "\n",
        "def softmax(x):\n",
        "  #put your code here\n",
        "  x = np.exp(-x)/(np.sum(np.exp(-x), axis=0))\n",
        "  return x\n",
        "\n",
        "def relu(x):\n",
        "  #put your code here\n",
        "  x = np.maximum(0,x)\n",
        "  return x\n",
        "\n",
        "def relu_backward(dA, Z):\n",
        "  #put your code here\n",
        "  dZ = np.array(dA, copy=True)\n",
        "  dZ[Z <= 0] = 0\n",
        "  return dZ\n",
        "\n",
        "def linear_backward(dA, Z):\n",
        "  #put your code here\n",
        "  # :)\n",
        "  return dZ\n",
        "\n",
        "def sigmoid_backward(dA, Z):\n",
        "  #put your code here\n",
        "  sig = 1/(1+np.exp(-Z))\n",
        "  dZ = dA * sig * (1-sig)\n",
        "  return dZ\n",
        "\n",
        "\n",
        "def cross_entropy(yhat, y):\n",
        "  #put your code here\n",
        "  i = np.argmax(y, axis = 1).astype(int)# one-hot to 0 1 2 3 ...\n",
        "  py = yhat[np.arange(len(yhat)),i]\n",
        "  loss = -1.0 * np.log(py)\n",
        "  return loss\n",
        "\n",
        "def BC_logits_backward(z,y):\n",
        "  #put your code here\n",
        "  dz = (1/(1 + np.exp(-z)) - y)\n",
        "  return dz\n",
        "\n",
        "def CE_logits_backward(z,y):\n",
        "  #put your code here\n",
        "  dz = (y - np.exp(-z)/(np.sum(np.exp(-z), axis=0)))\n",
        "  return dz\n",
        "\n",
        "def initialize_parameters(info):\n",
        "  #put your code here\n",
        "  np.random.seed(7)\n",
        "  params = {}\n",
        "  for i in range(1, len(info)):\n",
        "    params['W' + str(i)] = np.random.randn(info[i], info[i-1])*0.1 #this makes random numbers to vary in smaller range\n",
        "    params['b' + str(i)] = np.zeros((info[i], 1))\n",
        "  return params\n",
        "\n",
        "\n",
        "def compute_cost(yhat, Y, loss_type):\n",
        "  #put your code here\n",
        "  N = Y.shape[1]\n",
        "  if loss_type =='cross_entropy':\n",
        "    losslog = cross_entropy(yhat, Y)\n",
        "  elif loss_type == 'binary_cross_entropy':\n",
        "    losslog = -1.0*(np.multiply(np.log(yhat),Y) + np.multiply(np.log(1 - yhat), 1 - Y))\n",
        "  elif loss_type == 'mse':\n",
        "    losslog = np.sum((yhat-Y)**2, axis=0)\n",
        "  cost = 1.0/N * np.sum(losslog)\n",
        "  return cost\n",
        "\n",
        "def forward_propagation(params, X, activation):\n",
        "  #put your code here\n",
        "  cache = {}\n",
        "  keys = []\n",
        "  n_layer = len(params)//2\n",
        "  a = X\n",
        "  for l in range(1,n_layer):\n",
        "    W = params['W'+str(l)]\n",
        "    b = params['b'+str(l)]\n",
        "    z = np.dot(W,a) + b # W dimi*(dim i-1), a dim i-1 * m\n",
        "    if activation[l]=='sigmoid':\n",
        "      a = sigmoid(z)\n",
        "    elif activation[l]=='relu':\n",
        "      a = relu(z)\n",
        "    elif activation[l]=='linear':\n",
        "      a = linear(z)\n",
        "    elif activation[l]=='softmax':\n",
        "      a = softmax(z)\n",
        "    else:\n",
        "      print('Activation not defined')\n",
        "      return\n",
        "    cache[l] = (z,a,W,b)\n",
        "  Wnth = params['W'+str(n_layer)]\n",
        "  bnth = params['b'+str(n_layer)]\n",
        "  z = np.dot(Wnth, a) + bnth # a comes from last layer\n",
        "  if activation[n_layer]=='sigmoid':\n",
        "    a = sigmoid(z)\n",
        "  elif activation[n_layer]=='relu':\n",
        "    a = relu(z)\n",
        "  elif activation[n_layer]=='linear':\n",
        "    a = linear(z)\n",
        "  elif activation[n_layer]=='softmax':\n",
        "    a = softmax(z)\n",
        "  else:\n",
        "    print('activation function is not defined')\n",
        "    return\n",
        "  cache[n_layer] = (z,a,Wnth,bnth)\n",
        "  return a, cache\n",
        "\n",
        "\n",
        "def backward_propagation(X, Y, cache, activations, loss_type):\n",
        "  #put your code here\n",
        "  grads = {}\n",
        "  N = X.shape[1]\n",
        "  keys = []\n",
        "  for key in cache.keys():\n",
        "    keys.append(key)\n",
        "  n_layer = max(keys)\n",
        "  z,a,W, b = cache[n_layer]\n",
        "  cache_copy = cache\n",
        "  if loss_type == 'mse':\n",
        "    da = 1.0/N *(a-Y)\n",
        "    if activations[n_layer]=='sigmoid':\n",
        "      dz = sigmoid_backward(da, a)\n",
        "    elif activations[n_layer]=='relu':\n",
        "      dz = relu_backward(da, a)\n",
        "    elif activations[n_layer]=='linear':\n",
        "      dz = linear_backward(da, a)\n",
        "    else:\n",
        "      print('activation function is not defined')\n",
        "      return\n",
        "  elif loss_type == 'cross_entropy':\n",
        "    dz = 1.0/N * CE_logits_backward(z,Y)\n",
        "  elif loss_type =='binary_cross_entropy':\n",
        "    dz = 1.0/N * BC_logits_backward(z,Y)\n",
        "  else:\n",
        "    print('loss function is not defined')\n",
        "    return\n",
        "\n",
        "  dW = np.dot(dz, cache_copy[n_layer-1][1].T)\n",
        "  db = np.sum(dz, axis=1, keepdims = True)\n",
        "  grads['dz' + str(n_layer)] = dz\n",
        "  grads['dW' + str(n_layer)] = dW\n",
        "  grads['db' + str(n_layer)] = db\n",
        "  cache_copy[0] = (None,X)\n",
        "  for l in range(n_layer-1,0,-1):\n",
        "    a2 = cache_copy[l][1]\n",
        "    da2 = np.dot(W.T, dz)\n",
        "    if activations[l]=='sigmoid':\n",
        "      dz2 = sigmoid_backward(da2, a2)\n",
        "    elif activations[l]=='relu':\n",
        "      dz2 = relu_backward(da2, a2)\n",
        "    elif activations[l]=='linear':\n",
        "      dz2 = linear_backward(da2, a2)\n",
        "    else:\n",
        "      print('activation function is not defined')\n",
        "      return\n",
        "    dW2 = np.dot(dz2, cache_copy[l-1][1].T)\n",
        "    db2 = np.sum(dz2, axis=1, keepdims = True)\n",
        "    dz = dz2\n",
        "    W = cache_copy[l][2]\n",
        "    grads['da' + str(l)] = da2\n",
        "    grads['dz' + str(l)] = dz2\n",
        "    grads['dW' + str(l)] = dW2\n",
        "    grads['db' + str(l)] = db2\n",
        "  return grads\n",
        "\n",
        "def make_mini_batches(N,batch_size=16, shuffle=True):\n",
        "  indices = []\n",
        "  random_indices = np.arange(N)\n",
        "  if shuffle:\n",
        "      np.random.shuffle(random_indices)\n",
        "  mini_batch = []\n",
        "  n_minibatches = N // batch_size\n",
        "  for i in range(n_minibatches):\n",
        "      indices.append((random_indices[i*batch_size:i*batch_size + batch_size]))\n",
        "  i = i+1\n",
        "  if N % batch_size != 0:\n",
        "      indices.append((random_indices[i*batch_size:N]))\n",
        "  return indices\n",
        "\n",
        "def update_parameters_with_gd(params, grads, learning_rate):\n",
        "  keys = []\n",
        "  for key in params.keys():\n",
        "    keys.append(key)\n",
        "  n_layer = len(keys)//2\n",
        "  for l in range(1,n_layer):\n",
        "    params[\"W\" + str(l)] = params[\"W\" + str(l)] - learning_rate * grads[\"dW\" + str(l)]\n",
        "    params[\"b\" + str(l)] = params[\"b\" + str(l)] - learning_rate * grads[\"db\" + str(l)]\n",
        "  return params\n",
        "\n",
        "def initialize_adam(params) :\n",
        "  #put your code here\n",
        "  v = {}\n",
        "  s = {}\n",
        "  keys = []\n",
        "  for key in params.keys():\n",
        "    keys.append(key)\n",
        "  n_layer = len(keys)//2\n",
        "  for l in range(n_layer):\n",
        "    v[\"dW\" + str(l+1)] = np.zeros(params['W' + str(l+1)].shape)\n",
        "    v[\"db\" + str(l+1)] = np.zeros(params['b' + str(l+1)].shape)\n",
        "    s[\"dW\" + str(l+1)] = np.zeros(params['W' + str(l+1)].shape)\n",
        "    s[\"db\" + str(l+1)] = np.zeros(params['b' + str(l+1)].shape)\n",
        "  return  v, s\n",
        "\n",
        "def update_parameters_with_adam(params, grads, v, s, t, learning_rate,\n",
        "                                beta1 = 0.9, beta2 = 0.999,  epsilon = 1e-8):\n",
        "  #put your code here\n",
        "  v2 = {}\n",
        "  s2 = {}\n",
        "  keys = []\n",
        "  for key in params.keys():\n",
        "    keys.append(key)\n",
        "  n_layer = len(keys)//2\n",
        "\n",
        "  for l in range(n_layer):\n",
        "    # step 1\n",
        "    v[\"dW\" + str(l+1)] = beta1 * v['dW' + str(l+1)] + (1-beta1) * grads['dW' + str(l+1)]\n",
        "    v[\"db\" + str(l+1)] = beta1 * v['db' + str(l+1)] + (1-beta1) * grads['db' + str(l+1)]\n",
        "\n",
        "    # step2: modify\n",
        "    v2[\"dW\" + str(l+1)] = v['dW' + str(l+1)] / (1 - np.power(beta1, t))\n",
        "    v2[\"db\" + str(l+1)] = v['db' + str(l+1)] / (1 - np.power(beta1, t))\n",
        "\n",
        "    # step1, grad square\n",
        "    s[\"dW\" + str(l+1)] = beta2 * s['dW' + str(l+1)] + (1-beta2) * np.power(grads['dW' + str(l+1)], 2)\n",
        "    s[\"db\" + str(l+1)] = beta2 * s['db' + str(l+1)] + (1-beta2) * np.power(grads['db' + str(l+1)], 2)\n",
        "\n",
        "    # step2, modify grad square\n",
        "    s2[\"dW\" + str(l+1)] = s['dW' + str(l+1)] / (1 - np.power(beta2, t))\n",
        "    s2[\"db\" + str(l+1)] = s['db' + str(l+1)] / (1 - np.power(beta2, t))\n",
        "\n",
        "    # step3 update\n",
        "    params[\"W\" + str(l+1)] = params['W' + str(l+1)] - learning_rate * v2['dW' + str(l+1)] / np.sqrt(s2['dW' + str(l+1)] + epsilon)\n",
        "    params[\"b\" + str(l+1)] = params['b' + str(l+1)] - learning_rate * v2['db' + str(l+1)] / np.sqrt(s2['db' + str(l+1)] + epsilon)\n",
        "\n",
        "  return params, v, s"
      ],
      "execution_count": null,
      "outputs": []
    },
    {
      "cell_type": "code",
      "metadata": {
        "id": "w-DJzp60-_ig"
      },
      "source": [
        "class VanilaNN(object):\n",
        "  \"\"\"\n",
        "  naive implemetation of Neural Network with desired layers and activations.\n",
        "  \"\"\"\n",
        "  def __init__(self, layers_def={1:{\"type\":\"fc\",\"units\":64,\"activation\":\"relu\"},\n",
        "                                 2:{\"type\":\"fc\",\"units\":128,\"activation\":\"relu\"},\n",
        "                                 3:{\"type\":\"fc\",\"units\":10,\"activation\":\"softmax\"}\n",
        "                                },loss=\"cross_entropy\", optimizer='adam', optimizer_parameters={'beta1':0.9,'beta2':0.999,'epsilon':1e-8}):\n",
        "    \"\"\"\n",
        "    n-layers neural network.\n",
        "\n",
        "    Arguments:\n",
        "      layers_def: python dictionay, key: layer index, value: all parameters you need to construct a layer\n",
        "      loss: string ('mse', 'cross_entropy', 'binary_cross_entropy')\n",
        "      optimizer: string, ('sgd','adam')\n",
        "      optimizer_parameters: python dictionary (all parameters that optimizer needs)\n",
        "\n",
        "    \"\"\"\n",
        "\n",
        "    #put your code here\n",
        "    self.activations = []\n",
        "    self.dims = []\n",
        "    for i in range(len(layers_def)):\n",
        "      if i ==0:\n",
        "        self.activations.append(' ')\n",
        "      else:\n",
        "        if layers_def[i][\"activation\"] in ['sigmoid', 'relu', 'linear', 'softmax']:\n",
        "          self.activations.append(layers_def[i][\"activation\"])\n",
        "          if i==len(layers_def)-1:\n",
        "            if layers_def[i][\"activation\"] not in ['sigmoid', 'linear', 'softmax']:\n",
        "              print('activation function is not supported for the last layer')\n",
        "              return\n",
        "          else:\n",
        "            if layers_def[i][\"activation\"] not in ['relu', 'linear']:\n",
        "              print('activation function is not supported for the hidden layers')\n",
        "              return\n",
        "        else:\n",
        "          print('activation function is not supported')\n",
        "          return\n",
        "      self.dims.append(layers_def[i]['units'])\n",
        "    if len(self.dims) != len(self.activations):\n",
        "      print('number of activations and dimensions are not equal')\n",
        "      return\n",
        "    if loss not in ['binary_cross_entropy','cross_entropy','mse']:\n",
        "      assert loss in ['binary_cross_entropy','cross_entropy','mse']\n",
        "    if optimizer not in ['adam', 'sgd']:\n",
        "      assert optimizer in ['adam', 'sgd']\n",
        "\n",
        "    self.optimizer_parameters = optimizer_parameters\n",
        "    self.optimizer_parameters['t'] = 0\n",
        "\n",
        "    self.optimizer = optimizer\n",
        "    self.parameters = initialize_parameters(self.dims)\n",
        "    self.loss = loss\n",
        "    if optimizer == 'adam':\n",
        "       v, s = initialize_adam(self.parameters)\n",
        "       self.optimizer_parameters['v'] = v\n",
        "       self.optimizer_parameters['s'] = s\n",
        "\n",
        "\n",
        "  def train(self,X, Y,X_val, Y_val, learning_rate = 0.001, batch_size = 64, num_epochs = 10,print_cost = True):\n",
        "    \"\"\"\n",
        "    Arguments:\n",
        "      X : training data, of shape (features, N)\n",
        "      Y : training true labels (num_classes, N)\n",
        "      X_val : validation data, of shape (features, N)\n",
        "      Y_val : validation true labels (num_classes, N)\n",
        "      learning_rate:  the learning rate, scalar.\n",
        "      batch_size: the size of a mini batch\n",
        "      num_epochs: number of epochs\n",
        "      print_cost: True to print the cost every epoch\n",
        "    Returns:\n",
        "      a python dictionary containing history of train-val accuracy and loss\n",
        "    \"\"\"\n",
        "    costs = []\n",
        "    train_loss_hist = []\n",
        "    val_loss_hist = []\n",
        "    train_acc_hist = []\n",
        "    val_acc_hist = []\n",
        "    best_acc = 0\n",
        "    # Optimization loop\n",
        "    for i in range(num_epochs):\n",
        "      k = 0\n",
        "      print('\\nepoch: ',i)\n",
        "      # get random minibatches indices.\n",
        "      minibatches = make_mini_batches(X.shape[1],batch_size=batch_size, shuffle=True)\n",
        "      with ProgressBar(max_value=len(minibatches)) as bar:\n",
        "        for minibatch in minibatches:\n",
        "          # Select a minibatch\n",
        "          minibatch_X = X[:,minibatch]\n",
        "          minibatch_Y =  Y[:,minibatch]\n",
        "          # Forward propagation\n",
        "          a, caches = forward_propagation(self.parameters,minibatch_X,self.activations)\n",
        "\n",
        "          # Compute cost\n",
        "          cost = compute_cost(a, minibatch_Y, self.loss)\n",
        "\n",
        "\n",
        "          # Backward propagation\n",
        "          grads = backward_propagation(minibatch_X, minibatch_Y, caches,self.activations, self.loss)\n",
        "\n",
        "\n",
        "          # Update parameters\n",
        "          if self.optimizer == \"sgd\":\n",
        "            self.parameters = update_parameters_with_gd(self.parameters,grads, learning_rate)\n",
        "          elif self.optimizer == \"adam\":\n",
        "            self.optimizer_parameters['t'] = self.optimizer_parameters['t'] + 1\n",
        "            self.parameters,self.optimizer_parameters['v'],self.optimizer_parameters['s'] = update_parameters_with_adam(self.parameters,\n",
        "\n",
        "                                                                                                                        grads, self.optimizer_parameters['v'],\n",
        "                                                                                                                        self.optimizer_parameters['s'],\n",
        "                                                                                                                        self.optimizer_parameters['t'],learning_rate,\n",
        "                                                                                                                        self.optimizer_parameters['beta1'],\n",
        "                                                                                                                        self.optimizer_parameters['beta2'],\n",
        "                                                                                                                        self.optimizer_parameters['epsilon']\n",
        "                                                                                                                        )\n",
        "          else:\n",
        "            raise NotImplementedError('Undefined optimizer')\n",
        "        k = k +1\n",
        "        bar.update(k)\n",
        "      costs.append(cost)\n",
        "      acc, loss = self.evaluate(X_val, Y_val,batch_size = 128)\n",
        "      val_acc_hist.append(acc)\n",
        "      val_loss_hist.append(loss)\n",
        "      if acc>best_acc:\n",
        "        best_acc = acc\n",
        "      if print_cost == True:\n",
        "        print('cost', cost)\n",
        "        print('Val_acc', acc,'Val_loss', loss)\n",
        "\n",
        "      acc, loss = self.evaluate(X, Y,batch_size = 128)\n",
        "      train_acc_hist.append(acc)\n",
        "      train_loss_hist.append(loss)\n",
        "      if print_cost == True:\n",
        "        print('train_acc', acc,'train_loss', loss)\n",
        "      if i%10==0 and i!=0 and True:\n",
        "        # plot loss\n",
        "        plt.plot(train_loss_hist,'',val_loss_hist,'-')\n",
        "        plt.title('loss')\n",
        "        plt.legend(['train','validation'])\n",
        "        plt.grid()\n",
        "        plt.show()\n",
        "        # plot accuracy\n",
        "        plt.plot(train_acc_hist,'',val_acc_hist,'-')\n",
        "        plt.title('Accuracy')\n",
        "        plt.legend(['train','val'])\n",
        "        plt.grid()\n",
        "        plt.show()\n",
        "    history =  {'loss_train': train_loss_hist,\n",
        "                'loss_val': val_loss_hist,\n",
        "                'accuracy_train': train_acc_hist,\n",
        "                'accuracy_val': val_acc_hist}\n",
        "    print('best_acc',best_acc)\n",
        "    return history\n",
        "    # Optimization loop\n",
        "  def evaluate(self, x_test, y_test,batch_size):\n",
        "    \"\"\"\n",
        "    Arguments:\n",
        "      x_test: input data, of shape (features, N)\n",
        "      y_test : true label (num_classes, N)\n",
        "    returns:\n",
        "      acc, cost\n",
        "\n",
        "    \"\"\"\n",
        "    minibatches = make_mini_batches(x_test.shape[1],batch_size=batch_size, shuffle=False)\n",
        "    TP_TN = 0\n",
        "    predictions = []\n",
        "    costs = 0\n",
        "\n",
        "    for minibatch in minibatches:\n",
        "      # Select a minibatch\n",
        "      minibatch_X = x_test[:,minibatch]\n",
        "      minibatch_Y =  y_test[:,minibatch]\n",
        "      al, caches = forward_propagation(self.parameters, minibatch_X, self.activations)\n",
        "      costs = costs + compute_cost(al, minibatch_Y, self.loss)\n",
        "      preds = np.argmax(al,axis=0)\n",
        "      labels = np.argmax(minibatch_Y,axis=0)\n",
        "      TP_TN  = TP_TN +  (preds == labels).sum()\n",
        "      predictions.append(preds)\n",
        "    acc = TP_TN/x_test.shape[1]\n",
        "    costs = costs / len(minibatches)\n",
        "    return acc, costs\n",
        "\n",
        "  def predict(self, x_test, batch_size=512):\n",
        "    \"\"\"\n",
        "    Arguments:\n",
        "      x_test: input data, of shape (features, N)\n",
        "    returns:\n",
        "      predicted values\n",
        "\n",
        "    \"\"\"\n",
        "    minibatches = make_mini_batches(x_test.shape[1],batch_size=batch_size, shuffle=False)\n",
        "    predictions = []\n",
        "    for minibatch in minibatches:\n",
        "      minibatch_X = x_test[:,minibatch]\n",
        "      al, caches = forward_propagation(self.parameters, minibatch_X, self.activations)\n",
        "      pred = np.argmax(al,axis=0)\n",
        "      predictions.append(pred)\n",
        "    predictions = np.concatenate(predictions, 0)\n",
        "    return predictions\n"
      ],
      "execution_count": null,
      "outputs": []
    },
    {
      "cell_type": "markdown",
      "metadata": {
        "id": "mUM6If62VsIF"
      },
      "source": [
        "## Training:"
      ]
    },
    {
      "cell_type": "code",
      "metadata": {
        "id": "NuiLar2sQGj3",
        "scrolled": true,
        "outputId": "5eec9312-0bdf-4dd0-d47d-c71cc32f439a",
        "colab": {
          "base_uri": "https://localhost:8080/",
          "height": 1000
        }
      },
      "source": [
        "model = VanilaNN(layers_def={0:{\"type\":\"fc\",\"units\":Xtrain.shape[0],\"activation\":\"nothing\"},\n",
        "                             1:{\"type\":\"fc\",\"units\":128,\"activation\":\"relu\"},\n",
        "                             2:{\"type\":\"fc\",\"units\":256,\"activation\":\"relu\"},\n",
        "                             3:{\"type\":\"fc\",\"units\":10,\"activation\":\"sigmoid\"}\n",
        "                             },loss=\"mse\", optimizer='adam',\n",
        "                 optimizer_parameters={'beta1':0.9,'beta2':0.999,'epsilon':1e-8})\n",
        "\n",
        "history = model.train(Xtrain, Y_train1,Xtest, Y_test1, learning_rate = 0.001, batch_size = 1024,\n",
        "                      num_epochs = 32,print_cost = True)\n"
      ],
      "execution_count": null,
      "outputs": [
        {
          "output_type": "stream",
          "text": [
            "\n",
            "epoch:  0\n"
          ],
          "name": "stdout"
        },
        {
          "output_type": "stream",
          "text": [
            "100% (59 of 59) |########################| Elapsed Time: 0:00:00 Time:  0:00:00\n"
          ],
          "name": "stderr"
        },
        {
          "output_type": "stream",
          "text": [
            "cost 0.24473002295754692\n",
            "Val_acc 0.8839 Val_loss 0.21973793588131427\n",
            "train_acc 0.87795 train_loss 0.225984056099891\n",
            "\n",
            "epoch:  1\n"
          ],
          "name": "stdout"
        },
        {
          "output_type": "stream",
          "text": [
            "100% (59 of 59) |########################| Elapsed Time: 0:00:00 Time:  0:00:00\n"
          ],
          "name": "stderr"
        },
        {
          "output_type": "stream",
          "text": [
            "cost 0.13775089119750863\n",
            "Val_acc 0.922 Val_loss 0.13980151385691572\n",
            "train_acc 0.9190833333333334 train_loss 0.14276316501588313\n",
            "\n",
            "epoch:  2\n"
          ],
          "name": "stdout"
        },
        {
          "output_type": "stream",
          "text": [
            "100% (59 of 59) |########################| Elapsed Time: 0:00:00 Time:  0:00:00\n"
          ],
          "name": "stderr"
        },
        {
          "output_type": "stream",
          "text": [
            "cost 0.10881134921470001\n",
            "Val_acc 0.9322 Val_loss 0.11390951707251332\n",
            "train_acc 0.9352833333333334 train_loss 0.11312324724674233\n",
            "\n",
            "epoch:  3\n"
          ],
          "name": "stdout"
        },
        {
          "output_type": "stream",
          "text": [
            "100% (59 of 59) |########################| Elapsed Time: 0:00:00 Time:  0:00:00\n"
          ],
          "name": "stderr"
        },
        {
          "output_type": "stream",
          "text": [
            "cost 0.08775593509597295\n",
            "Val_acc 0.9449 Val_loss 0.09473049187686457\n",
            "train_acc 0.94775 train_loss 0.09222014016788685\n",
            "\n",
            "epoch:  4\n"
          ],
          "name": "stdout"
        },
        {
          "output_type": "stream",
          "text": [
            "100% (59 of 59) |########################| Elapsed Time: 0:00:00 Time:  0:00:00\n"
          ],
          "name": "stderr"
        },
        {
          "output_type": "stream",
          "text": [
            "cost 0.07079115962832519\n",
            "Val_acc 0.9521 Val_loss 0.08241089956578743\n",
            "train_acc 0.9549833333333333 train_loss 0.07895404311107088\n",
            "\n",
            "epoch:  5\n"
          ],
          "name": "stdout"
        },
        {
          "output_type": "stream",
          "text": [
            "100% (59 of 59) |########################| Elapsed Time: 0:00:00 Time:  0:00:00\n"
          ],
          "name": "stderr"
        },
        {
          "output_type": "stream",
          "text": [
            "cost 0.05486494646319399\n",
            "Val_acc 0.9562 Val_loss 0.07418098942588201\n",
            "train_acc 0.962 train_loss 0.06878263409548215\n",
            "\n",
            "epoch:  6\n"
          ],
          "name": "stdout"
        },
        {
          "output_type": "stream",
          "text": [
            "100% (59 of 59) |########################| Elapsed Time: 0:00:00 Time:  0:00:00\n"
          ],
          "name": "stderr"
        },
        {
          "output_type": "stream",
          "text": [
            "cost 0.07540366324924234\n",
            "Val_acc 0.9609 Val_loss 0.06720361729405783\n",
            "train_acc 0.96625 train_loss 0.06118931679811914\n",
            "\n",
            "epoch:  7\n"
          ],
          "name": "stdout"
        },
        {
          "output_type": "stream",
          "text": [
            "100% (59 of 59) |########################| Elapsed Time: 0:00:00 Time:  0:00:00\n"
          ],
          "name": "stderr"
        },
        {
          "output_type": "stream",
          "text": [
            "cost 0.05103269157996205\n",
            "Val_acc 0.9646 Val_loss 0.061823243426355125\n",
            "train_acc 0.9698833333333333 train_loss 0.05527399556067213\n",
            "\n",
            "epoch:  8\n"
          ],
          "name": "stdout"
        },
        {
          "output_type": "stream",
          "text": [
            "100% (59 of 59) |########################| Elapsed Time: 0:00:00 Time:  0:00:00\n"
          ],
          "name": "stderr"
        },
        {
          "output_type": "stream",
          "text": [
            "cost 0.06467697332460094\n",
            "Val_acc 0.968 Val_loss 0.057330783720404385\n",
            "train_acc 0.97315 train_loss 0.04962305929677332\n",
            "\n",
            "epoch:  9\n"
          ],
          "name": "stdout"
        },
        {
          "output_type": "stream",
          "text": [
            "100% (59 of 59) |########################| Elapsed Time: 0:00:00 Time:  0:00:00\n"
          ],
          "name": "stderr"
        },
        {
          "output_type": "stream",
          "text": [
            "cost 0.06074838886668155\n",
            "Val_acc 0.9692 Val_loss 0.05485042943210712\n",
            "train_acc 0.9759833333333333 train_loss 0.045526468507883264\n",
            "\n",
            "epoch:  10\n"
          ],
          "name": "stdout"
        },
        {
          "output_type": "stream",
          "text": [
            "100% (59 of 59) |########################| Elapsed Time: 0:00:00 Time:  0:00:00\n"
          ],
          "name": "stderr"
        },
        {
          "output_type": "stream",
          "text": [
            "cost 0.048638822945584824\n",
            "Val_acc 0.9715 Val_loss 0.05130845371488837\n",
            "train_acc 0.9784833333333334 train_loss 0.041495507424215886\n"
          ],
          "name": "stdout"
        },
        {
          "output_type": "display_data",
          "data": {
            "image/png": "[encoded data removed]",
            "text/plain": [
              "<Figure size 432x288 with 1 Axes>"
            ]
          },
          "metadata": {
            "tags": [],
            "needs_background": "light"
          }
        },
        {
          "output_type": "display_data",
          "data": {
            "image/png": "[encoded data removed]",
            "text/plain": [
              "<Figure size 432x288 with 1 Axes>"
            ]
          },
          "metadata": {
            "tags": [],
            "needs_background": "light"
          }
        },
        {
          "output_type": "stream",
          "text": [
            "\n",
            "epoch:  11\n"
          ],
          "name": "stdout"
        },
        {
          "output_type": "stream",
          "text": [
            "100% (59 of 59) |########################| Elapsed Time: 0:00:00 Time:  0:00:00\n"
          ],
          "name": "stderr"
        },
        {
          "output_type": "stream",
          "text": [
            "cost 0.04585871129746433\n",
            "Val_acc 0.9722 Val_loss 0.050499966342095796\n",
            "train_acc 0.9795166666666667 train_loss 0.03919724146259538\n",
            "\n",
            "epoch:  12\n"
          ],
          "name": "stdout"
        },
        {
          "output_type": "stream",
          "text": [
            "100% (59 of 59) |########################| Elapsed Time: 0:00:00 Time:  0:00:00\n"
          ],
          "name": "stderr"
        },
        {
          "output_type": "stream",
          "text": [
            "cost 0.03695430185732448\n",
            "Val_acc 0.9732 Val_loss 0.047389721786383496\n",
            "train_acc 0.9819833333333333 train_loss 0.03499997663348252\n",
            "\n",
            "epoch:  13\n"
          ],
          "name": "stdout"
        },
        {
          "output_type": "stream",
          "text": [
            "100% (59 of 59) |########################| Elapsed Time: 0:00:00 Time:  0:00:00\n"
          ],
          "name": "stderr"
        },
        {
          "output_type": "stream",
          "text": [
            "cost 0.03889184529765395\n",
            "Val_acc 0.9742 Val_loss 0.04596969106382148\n",
            "train_acc 0.9838 train_loss 0.03267613124143352\n",
            "\n",
            "epoch:  14\n"
          ],
          "name": "stdout"
        },
        {
          "output_type": "stream",
          "text": [
            "100% (59 of 59) |########################| Elapsed Time: 0:00:00 Time:  0:00:00\n"
          ],
          "name": "stderr"
        },
        {
          "output_type": "stream",
          "text": [
            "cost 0.02521457762300171\n",
            "Val_acc 0.9758 Val_loss 0.04377401590829059\n",
            "train_acc 0.9854666666666667 train_loss 0.029596650516541357\n",
            "\n",
            "epoch:  15\n"
          ],
          "name": "stdout"
        },
        {
          "output_type": "stream",
          "text": [
            "100% (59 of 59) |########################| Elapsed Time: 0:00:00 Time:  0:00:00\n"
          ],
          "name": "stderr"
        },
        {
          "output_type": "stream",
          "text": [
            "cost 0.025405563277015708\n",
            "Val_acc 0.9742 Val_loss 0.044478155587976465\n",
            "train_acc 0.9857 train_loss 0.028907270243399882\n",
            "\n",
            "epoch:  16\n"
          ],
          "name": "stdout"
        },
        {
          "output_type": "stream",
          "text": [
            "100% (59 of 59) |########################| Elapsed Time: 0:00:00 Time:  0:00:00\n"
          ],
          "name": "stderr"
        },
        {
          "output_type": "stream",
          "text": [
            "cost 0.028106247421783984\n",
            "Val_acc 0.9759 Val_loss 0.04201623872282638\n",
            "train_acc 0.9874666666666667 train_loss 0.025616799355311897\n",
            "\n",
            "epoch:  17\n"
          ],
          "name": "stdout"
        },
        {
          "output_type": "stream",
          "text": [
            "100% (59 of 59) |########################| Elapsed Time: 0:00:00 Time:  0:00:00\n"
          ],
          "name": "stderr"
        },
        {
          "output_type": "stream",
          "text": [
            "cost 0.0236666613252702\n",
            "Val_acc 0.9779 Val_loss 0.0404250246059541\n",
            "train_acc 0.98885 train_loss 0.023289178708977603\n",
            "\n",
            "epoch:  18\n"
          ],
          "name": "stdout"
        },
        {
          "output_type": "stream",
          "text": [
            "100% (59 of 59) |########################| Elapsed Time: 0:00:00 Time:  0:00:00\n"
          ],
          "name": "stderr"
        },
        {
          "output_type": "stream",
          "text": [
            "cost 0.025211258963687415\n",
            "Val_acc 0.9775 Val_loss 0.04036792325118108\n",
            "train_acc 0.9896166666666667 train_loss 0.022267767071024142\n",
            "\n",
            "epoch:  19\n"
          ],
          "name": "stdout"
        },
        {
          "output_type": "stream",
          "text": [
            "100% (59 of 59) |########################| Elapsed Time: 0:00:00 Time:  0:00:00\n"
          ],
          "name": "stderr"
        },
        {
          "output_type": "stream",
          "text": [
            "cost 0.021003497853361742\n",
            "Val_acc 0.9779 Val_loss 0.04027937966298985\n",
            "train_acc 0.9902333333333333 train_loss 0.021145199192038007\n",
            "\n",
            "epoch:  20\n"
          ],
          "name": "stdout"
        },
        {
          "output_type": "stream",
          "text": [
            "100% (59 of 59) |########################| Elapsed Time: 0:00:00 Time:  0:00:00\n"
          ],
          "name": "stderr"
        },
        {
          "output_type": "stream",
          "text": [
            "cost 0.014803832216348756\n",
            "Val_acc 0.9786 Val_loss 0.03818792846577587\n",
            "train_acc 0.9919666666666667 train_loss 0.018420089112897723\n"
          ],
          "name": "stdout"
        },
        {
          "output_type": "display_data",
          "data": {
            "image/png": "[encoded data removed]",
            "text/plain": [
              "<Figure size 432x288 with 1 Axes>"
            ]
          },
          "metadata": {
            "tags": [],
            "needs_background": "light"
          }
        },
        {
          "output_type": "display_data",
          "data": {
            "image/png": "[encoded data removed]",
            "text/plain": [
              "<Figure size 432x288 with 1 Axes>"
            ]
          },
          "metadata": {
            "tags": [],
            "needs_background": "light"
          }
        },
        {
          "output_type": "stream",
          "text": [
            "\n",
            "epoch:  21\n"
          ],
          "name": "stdout"
        },
        {
          "output_type": "stream",
          "text": [
            "100% (59 of 59) |########################| Elapsed Time: 0:00:00 Time:  0:00:00\n"
          ],
          "name": "stderr"
        },
        {
          "output_type": "stream",
          "text": [
            "cost 0.017157735105993947\n",
            "Val_acc 0.9782 Val_loss 0.038173562018854135\n",
            "train_acc 0.992 train_loss 0.017286059631263957\n",
            "\n",
            "epoch:  22\n"
          ],
          "name": "stdout"
        },
        {
          "output_type": "stream",
          "text": [
            "100% (59 of 59) |########################| Elapsed Time: 0:00:00 Time:  0:00:00\n"
          ],
          "name": "stderr"
        },
        {
          "output_type": "stream",
          "text": [
            "cost 0.01432869906302221\n",
            "Val_acc 0.978 Val_loss 0.038925053914858516\n",
            "train_acc 0.9924833333333334 train_loss 0.017470201817626582\n",
            "\n",
            "epoch:  23\n"
          ],
          "name": "stdout"
        },
        {
          "output_type": "stream",
          "text": [
            "100% (59 of 59) |########################| Elapsed Time: 0:00:00 Time:  0:00:00\n"
          ],
          "name": "stderr"
        },
        {
          "output_type": "stream",
          "text": [
            "cost 0.02461872431943696\n",
            "Val_acc 0.9786 Val_loss 0.037773929612070274\n",
            "train_acc 0.99335 train_loss 0.015367658709392183\n",
            "\n",
            "epoch:  24\n"
          ],
          "name": "stdout"
        },
        {
          "output_type": "stream",
          "text": [
            "100% (59 of 59) |########################| Elapsed Time: 0:00:00 Time:  0:00:00\n"
          ],
          "name": "stderr"
        },
        {
          "output_type": "stream",
          "text": [
            "cost 0.01206796698062561\n",
            "Val_acc 0.9796 Val_loss 0.03659500251466808\n",
            "train_acc 0.9944333333333333 train_loss 0.013212172423378875\n",
            "\n",
            "epoch:  25\n"
          ],
          "name": "stdout"
        },
        {
          "output_type": "stream",
          "text": [
            "100% (59 of 59) |########################| Elapsed Time: 0:00:00 Time:  0:00:00\n"
          ],
          "name": "stderr"
        },
        {
          "output_type": "stream",
          "text": [
            "cost 0.010284341306265257\n",
            "Val_acc 0.9796 Val_loss 0.03649409045750421\n",
            "train_acc 0.9952833333333333 train_loss 0.012393905540674896\n",
            "\n",
            "epoch:  26\n"
          ],
          "name": "stdout"
        },
        {
          "output_type": "stream",
          "text": [
            "100% (59 of 59) |########################| Elapsed Time: 0:00:00 Time:  0:00:00\n"
          ],
          "name": "stderr"
        },
        {
          "output_type": "stream",
          "text": [
            "cost 0.015944968802517563\n",
            "Val_acc 0.9798 Val_loss 0.03625519124107919\n",
            "train_acc 0.9957333333333334 train_loss 0.011597195601653303\n",
            "\n",
            "epoch:  27\n"
          ],
          "name": "stdout"
        },
        {
          "output_type": "stream",
          "text": [
            "100% (59 of 59) |########################| Elapsed Time: 0:00:00 Time:  0:00:00\n"
          ],
          "name": "stderr"
        },
        {
          "output_type": "stream",
          "text": [
            "cost 0.010349867372366652\n",
            "Val_acc 0.9799 Val_loss 0.03614615148380792\n",
            "train_acc 0.9961 train_loss 0.010714450928016761\n",
            "\n",
            "epoch:  28\n"
          ],
          "name": "stdout"
        },
        {
          "output_type": "stream",
          "text": [
            "100% (59 of 59) |########################| Elapsed Time: 0:00:00 Time:  0:00:00\n"
          ],
          "name": "stderr"
        },
        {
          "output_type": "stream",
          "text": [
            "cost 0.012099888423008031\n",
            "Val_acc 0.9799 Val_loss 0.03615228529326611\n",
            "train_acc 0.9964166666666666 train_loss 0.009871408786335838\n",
            "\n",
            "epoch:  29\n"
          ],
          "name": "stdout"
        },
        {
          "output_type": "stream",
          "text": [
            "100% (59 of 59) |########################| Elapsed Time: 0:00:00 Time:  0:00:00\n"
          ],
          "name": "stderr"
        },
        {
          "output_type": "stream",
          "text": [
            "cost 0.008938688969380014\n",
            "Val_acc 0.98 Val_loss 0.035559932687132596\n",
            "train_acc 0.9967333333333334 train_loss 0.009188262596909448\n",
            "\n",
            "epoch:  30\n"
          ],
          "name": "stdout"
        },
        {
          "output_type": "stream",
          "text": [
            "100% (59 of 59) |########################| Elapsed Time: 0:00:00 Time:  0:00:00\n"
          ],
          "name": "stderr"
        },
        {
          "output_type": "stream",
          "text": [
            "cost 0.006597159222728524\n",
            "Val_acc 0.9805 Val_loss 0.035342769155619076\n",
            "train_acc 0.9973333333333333 train_loss 0.008045323352728725\n"
          ],
          "name": "stdout"
        },
        {
          "output_type": "display_data",
          "data": {
            "image/png": "[encoded data removed]",
            "text/plain": [
              "<Figure size 432x288 with 1 Axes>"
            ]
          },
          "metadata": {
            "tags": [],
            "needs_background": "light"
          }
        },
        {
          "output_type": "display_data",
          "data": {
            "image/png": "[encoded data removed]",
            "text/plain": [
              "<Figure size 432x288 with 1 Axes>"
            ]
          },
          "metadata": {
            "tags": [],
            "needs_background": "light"
          }
        },
        {
          "output_type": "stream",
          "text": [
            "\n",
            "epoch:  31\n"
          ],
          "name": "stdout"
        },
        {
          "output_type": "stream",
          "text": [
            "100% (59 of 59) |########################| Elapsed Time: 0:00:00 Time:  0:00:00\n"
          ],
          "name": "stderr"
        },
        {
          "output_type": "stream",
          "text": [
            "cost 0.010551626338911832\n",
            "Val_acc 0.9806 Val_loss 0.035596853679981215\n",
            "train_acc 0.9975166666666667 train_loss 0.007506338026385754\n",
            "best_acc 0.9806\n"
          ],
          "name": "stdout"
        }
      ]
    },
    {
      "cell_type": "markdown",
      "metadata": {
        "id": "N7BQ7YAvqJnp"
      },
      "source": [
        "# plot training history:"
      ]
    },
    {
      "cell_type": "code",
      "metadata": {
        "id": "SFXg5l6UUdH3",
        "outputId": "f37bd1ea-48da-49a1-c227-ad7d207c5297",
        "colab": {
          "base_uri": "https://localhost:8080/",
          "height": 545
        }
      },
      "source": [
        "# plot loss\n",
        "plt.plot(history['loss_train'],'', history['loss_val'],'-')\n",
        "plt.title('Loss')\n",
        "plt.legend(['train','val'])\n",
        "plt.grid()\n",
        "plt.show()\n",
        "# plot accuracy\n",
        "plt.plot(history['accuracy_train'],'', history['accuracy_val'],'-')\n",
        "plt.title('Accuracy')\n",
        "plt.legend(['train','val'])\n",
        "plt.grid()\n",
        "plt.show()"
      ],
      "execution_count": null,
      "outputs": [
        {
          "output_type": "display_data",
          "data": {
            "image/png": "[encoded data removed]",
            "text/plain": [
              "<Figure size 432x288 with 1 Axes>"
            ]
          },
          "metadata": {
            "tags": [],
            "needs_background": "light"
          }
        },
        {
          "output_type": "display_data",
          "data": {
            "image/png": "[encoded data removed]",
            "text/plain": [
              "<Figure size 432x288 with 1 Axes>"
            ]
          },
          "metadata": {
            "tags": [],
            "needs_background": "light"
          }
        }
      ]
    },
    {
      "cell_type": "markdown",
      "metadata": {
        "id": "ThaFN93SqJnu"
      },
      "source": [
        "# Evaluate model:"
      ]
    },
    {
      "cell_type": "code",
      "metadata": {
        "id": "GTU6gdbbEVCv",
        "outputId": "8a17a656-f8a9-4566-a862-f8fb135d703d",
        "colab": {
          "base_uri": "https://localhost:8080/"
        }
      },
      "source": [
        "# make a prediction:\n",
        "n = 10\n",
        "prediction = model.predict(Xtest[:,n:n+1], 1)\n",
        "print('prediction: ', prediction[0], \" true label: \",Y_test1[:,n], 'real number', np.argmax(Y_test1[:,n]))\n"
      ],
      "execution_count": null,
      "outputs": [
        {
          "output_type": "stream",
          "text": [
            "prediction:  0  true label:  [1. 0. 0. 0. 0. 0. 0. 0. 0. 0.] real number 0\n"
          ],
          "name": "stdout"
        }
      ]
    },
    {
      "cell_type": "code",
      "metadata": {
        "id": "6d9KY1yPqJnz",
        "outputId": "4f9abab4-42ab-45bc-810b-c69f6160b697",
        "colab": {
          "base_uri": "https://localhost:8080/"
        }
      },
      "source": [
        "test_acc, test_loss = model.evaluate(Xtest, Y_test1,128)\n",
        "print(\"Accuracy = %2.2f, Loss = %2.4f\"%(test_acc, test_loss))"
      ],
      "execution_count": null,
      "outputs": [
        {
          "output_type": "stream",
          "text": [
            "Accuracy = 0.98, Loss = 0.0356\n"
          ],
          "name": "stdout"
        }
      ]
    },
    {
      "cell_type": "markdown",
      "metadata": {
        "id": "H1h5E5RJB12x"
      },
      "source": [
        "# Increasing number of layers"
      ]
    },
    {
      "cell_type": "code",
      "metadata": {
        "id": "rSOlWLGNB1lM"
      },
      "source": [
        "layers_def1 ={0:{\"type\":\"fc\",\"units\":Xtrain.shape[0],\"activation\":\"nothing\"},\n",
        "              1:{\"type\":\"fc\",\"units\":64,\"activation\":\"relu\"},\n",
        "              2:{\"type\":\"fc\",\"units\":128,\"activation\":\"relu\"},\n",
        "              3:{\"type\":\"fc\",\"units\":10,\"activation\":\"sigmoid\"}\n",
        "              }\n",
        "layers_def2 ={0:{\"type\":\"fc\",\"units\":Xtrain.shape[0],\"activation\":\"nothing\"},\n",
        "              1:{\"type\":\"fc\",\"units\":32,\"activation\":\"relu\"},\n",
        "              2:{\"type\":\"fc\",\"units\":64,\"activation\":\"relu\"},\n",
        "              3:{\"type\":\"fc\",\"units\":128,\"activation\":\"relu\"},\n",
        "              4:{\"type\":\"fc\",\"units\":10,\"activation\":\"sigmoid\"}\n",
        "              }\n",
        "layers_def3 ={0:{\"type\":\"fc\",\"units\":Xtrain.shape[0],\"activation\":\"nothing\"},\n",
        "              1:{\"type\":\"fc\",\"units\":32,\"activation\":\"relu\"},\n",
        "              2:{\"type\":\"fc\",\"units\":64,\"activation\":\"relu\"},\n",
        "              3:{\"type\":\"fc\",\"units\":128,\"activation\":\"relu\"},\n",
        "              4:{\"type\":\"fc\",\"units\":256,\"activation\":\"relu\"},\n",
        "              5:{\"type\":\"fc\",\"units\":10,\"activation\":\"sigmoid\"}\n",
        "              }\n",
        "layers_def4 ={0:{\"type\":\"fc\",\"units\":Xtrain.shape[0],\"activation\":\"nothing\"},\n",
        "              1:{\"type\":\"fc\",\"units\":32,\"activation\":\"relu\"},\n",
        "              2:{\"type\":\"fc\",\"units\":64,\"activation\":\"relu\"},\n",
        "              3:{\"type\":\"fc\",\"units\":128,\"activation\":\"relu\"},\n",
        "              4:{\"type\":\"fc\",\"units\":256,\"activation\":\"relu\"},\n",
        "              5:{\"type\":\"fc\",\"units\":512,\"activation\":\"relu\"},\n",
        "              6:{\"type\":\"fc\",\"units\":10,\"activation\":\"sigmoid\"}\n",
        "              }"
      ],
      "execution_count": null,
      "outputs": []
    },
    {
      "cell_type": "code",
      "metadata": {
        "id": "vUOx6TOUCr1k",
        "outputId": "a1d2493f-d2cf-41be-d05f-9769f233d2cf",
        "colab": {
          "base_uri": "https://localhost:8080/",
          "height": 1000
        }
      },
      "source": [
        "layer_defs = [layers_def1,layers_def2,layers_def3,layers_def4]\n",
        "history_list = []\n",
        "for layers_def in layer_defs:\n",
        "  model = VanilaNN(layers_def=layers_def,loss=\"mse\", optimizer='adam',\n",
        "                  optimizer_parameters={'beta1':0.9,'beta2':0.999,'epsilon':1e-8})\n",
        "\n",
        "  history = model.train(Xtrain, Y_train1,Xtest, Y_test1, learning_rate = 0.001, batch_size = 1024,\n",
        "                        num_epochs = 32,print_cost = False)\n",
        "  history_list.append(history)\n",
        ""
      ],
      "execution_count": null,
      "outputs": [
        {
          "output_type": "stream",
          "text": [
            "\n",
            "epoch:  0\n"
          ],
          "name": "stdout"
        },
        {
          "output_type": "stream",
          "text": [
            "100% (59 of 59) |########################| Elapsed Time: 0:00:00 Time:  0:00:00\n"
          ],
          "name": "stderr"
        },
        {
          "output_type": "stream",
          "text": [
            "\n",
            "epoch:  1\n"
          ],
          "name": "stdout"
        },
        {
          "output_type": "stream",
          "text": [
            "100% (59 of 59) |########################| Elapsed Time: 0:00:00 Time:  0:00:00\n"
          ],
          "name": "stderr"
        },
        {
          "output_type": "stream",
          "text": [
            "\n",
            "epoch:  2\n"
          ],
          "name": "stdout"
        },
        {
          "output_type": "stream",
          "text": [
            "100% (59 of 59) |########################| Elapsed Time: 0:00:00 Time:  0:00:00\n"
          ],
          "name": "stderr"
        },
        {
          "output_type": "stream",
          "text": [
            "\n",
            "epoch:  3\n"
          ],
          "name": "stdout"
        },
        {
          "output_type": "stream",
          "text": [
            "100% (59 of 59) |########################| Elapsed Time: 0:00:00 Time:  0:00:00\n"
          ],
          "name": "stderr"
        },
        {
          "output_type": "stream",
          "text": [
            "\n",
            "epoch:  4\n"
          ],
          "name": "stdout"
        },
        {
          "output_type": "stream",
          "text": [
            "100% (59 of 59) |########################| Elapsed Time: 0:00:00 Time:  0:00:00\n"
          ],
          "name": "stderr"
        },
        {
          "output_type": "stream",
          "text": [
            "\n",
            "epoch:  5\n"
          ],
          "name": "stdout"
        },
        {
          "output_type": "stream",
          "text": [
            "100% (59 of 59) |########################| Elapsed Time: 0:00:00 Time:  0:00:00\n"
          ],
          "name": "stderr"
        },
        {
          "output_type": "stream",
          "text": [
            "\n",
            "epoch:  6\n"
          ],
          "name": "stdout"
        },
        {
          "output_type": "stream",
          "text": [
            "100% (59 of 59) |########################| Elapsed Time: 0:00:00 Time:  0:00:00\n"
          ],
          "name": "stderr"
        },
        {
          "output_type": "stream",
          "text": [
            "\n",
            "epoch:  7\n"
          ],
          "name": "stdout"
        },
        {
          "output_type": "stream",
          "text": [
            "100% (59 of 59) |########################| Elapsed Time: 0:00:00 Time:  0:00:00\n"
          ],
          "name": "stderr"
        },
        {
          "output_type": "stream",
          "text": [
            "\n",
            "epoch:  8\n"
          ],
          "name": "stdout"
        },
        {
          "output_type": "stream",
          "text": [
            "100% (59 of 59) |########################| Elapsed Time: 0:00:00 Time:  0:00:00\n"
          ],
          "name": "stderr"
        },
        {
          "output_type": "stream",
          "text": [
            "\n",
            "epoch:  9\n"
          ],
          "name": "stdout"
        },
        {
          "output_type": "stream",
          "text": [
            "100% (59 of 59) |########################| Elapsed Time: 0:00:00 Time:  0:00:00\n"
          ],
          "name": "stderr"
        },
        {
          "output_type": "stream",
          "text": [
            "\n",
            "epoch:  10\n"
          ],
          "name": "stdout"
        },
        {
          "output_type": "stream",
          "text": [
            "100% (59 of 59) |########################| Elapsed Time: 0:00:00 Time:  0:00:00\n"
          ],
          "name": "stderr"
        },
        {
          "output_type": "display_data",
          "data": {
            "image/png": "[encoded data removed]",
            "text/plain": [
              "<Figure size 432x288 with 1 Axes>"
            ]
          },
          "metadata": {
            "tags": [],
            "needs_background": "light"
          }
        },
        {
          "output_type": "display_data",
          "data": {
            "image/png": "[encoded data removed]",
            "text/plain": [
              "<Figure size 432x288 with 1 Axes>"
            ]
          },
          "metadata": {
            "tags": [],
            "needs_background": "light"
          }
        },
        {
          "output_type": "stream",
          "text": [
            "\n",
            "epoch:  11\n"
          ],
          "name": "stdout"
        },
        {
          "output_type": "stream",
          "text": [
            "100% (59 of 59) |########################| Elapsed Time: 0:00:00 Time:  0:00:00\n"
          ],
          "name": "stderr"
        },
        {
          "output_type": "stream",
          "text": [
            "\n",
            "epoch:  12\n"
          ],
          "name": "stdout"
        },
        {
          "output_type": "stream",
          "text": [
            "100% (59 of 59) |########################| Elapsed Time: 0:00:00 Time:  0:00:00\n"
          ],
          "name": "stderr"
        },
        {
          "output_type": "stream",
          "text": [
            "\n",
            "epoch:  13\n"
          ],
          "name": "stdout"
        },
        {
          "output_type": "stream",
          "text": [
            "100% (59 of 59) |########################| Elapsed Time: 0:00:00 Time:  0:00:00\n"
          ],
          "name": "stderr"
        },
        {
          "output_type": "stream",
          "text": [
            "\n",
            "epoch:  14\n"
          ],
          "name": "stdout"
        },
        {
          "output_type": "stream",
          "text": [
            "100% (59 of 59) |########################| Elapsed Time: 0:00:00 Time:  0:00:00\n"
          ],
          "name": "stderr"
        },
        {
          "output_type": "stream",
          "text": [
            "\n",
            "epoch:  15\n"
          ],
          "name": "stdout"
        },
        {
          "output_type": "stream",
          "text": [
            "100% (59 of 59) |########################| Elapsed Time: 0:00:00 Time:  0:00:00\n"
          ],
          "name": "stderr"
        },
        {
          "output_type": "stream",
          "text": [
            "\n",
            "epoch:  16\n"
          ],
          "name": "stdout"
        },
        {
          "output_type": "stream",
          "text": [
            "100% (59 of 59) |########################| Elapsed Time: 0:00:00 Time:  0:00:00\n"
          ],
          "name": "stderr"
        },
        {
          "output_type": "stream",
          "text": [
            "\n",
            "epoch:  17\n"
          ],
          "name": "stdout"
        },
        {
          "output_type": "stream",
          "text": [
            "100% (59 of 59) |########################| Elapsed Time: 0:00:00 Time:  0:00:00\n"
          ],
          "name": "stderr"
        },
        {
          "output_type": "stream",
          "text": [
            "\n",
            "epoch:  18\n"
          ],
          "name": "stdout"
        },
        {
          "output_type": "stream",
          "text": [
            "100% (59 of 59) |########################| Elapsed Time: 0:00:00 Time:  0:00:00\n"
          ],
          "name": "stderr"
        },
        {
          "output_type": "stream",
          "text": [
            "\n",
            "epoch:  19\n"
          ],
          "name": "stdout"
        },
        {
          "output_type": "stream",
          "text": [
            "100% (59 of 59) |########################| Elapsed Time: 0:00:00 Time:  0:00:00\n"
          ],
          "name": "stderr"
        },
        {
          "output_type": "stream",
          "text": [
            "\n",
            "epoch:  20\n"
          ],
          "name": "stdout"
        },
        {
          "output_type": "stream",
          "text": [
            "100% (59 of 59) |########################| Elapsed Time: 0:00:00 Time:  0:00:00\n"
          ],
          "name": "stderr"
        },
        {
          "output_type": "display_data",
          "data": {
            "image/png": "[encoded data removed]",
            "text/plain": [
              "<Figure size 432x288 with 1 Axes>"
            ]
          },
          "metadata": {
            "tags": [],
            "needs_background": "light"
          }
        },
        {
          "output_type": "display_data",
          "data": {
            "image/png": "[encoded data removed]",
            "text/plain": [
              "<Figure size 432x288 with 1 Axes>"
            ]
          },
          "metadata": {
            "tags": [],
            "needs_background": "light"
          }
        },
        {
          "output_type": "stream",
          "text": [
            "\n",
            "epoch:  21\n"
          ],
          "name": "stdout"
        },
        {
          "output_type": "stream",
          "text": [
            "100% (59 of 59) |########################| Elapsed Time: 0:00:00 Time:  0:00:00\n"
          ],
          "name": "stderr"
        },
        {
          "output_type": "stream",
          "text": [
            "\n",
            "epoch:  22\n"
          ],
          "name": "stdout"
        },
        {
          "output_type": "stream",
          "text": [
            "100% (59 of 59) |########################| Elapsed Time: 0:00:00 Time:  0:00:00\n"
          ],
          "name": "stderr"
        },
        {
          "output_type": "stream",
          "text": [
            "\n",
            "epoch:  23\n"
          ],
          "name": "stdout"
        },
        {
          "output_type": "stream",
          "text": [
            "100% (59 of 59) |########################| Elapsed Time: 0:00:00 Time:  0:00:00\n"
          ],
          "name": "stderr"
        },
        {
          "output_type": "stream",
          "text": [
            "\n",
            "epoch:  24\n"
          ],
          "name": "stdout"
        },
        {
          "output_type": "stream",
          "text": [
            "100% (59 of 59) |########################| Elapsed Time: 0:00:00 Time:  0:00:00\n"
          ],
          "name": "stderr"
        },
        {
          "output_type": "stream",
          "text": [
            "\n",
            "epoch:  25\n"
          ],
          "name": "stdout"
        },
        {
          "output_type": "stream",
          "text": [
            "100% (59 of 59) |########################| Elapsed Time: 0:00:00 Time:  0:00:00\n"
          ],
          "name": "stderr"
        },
        {
          "output_type": "stream",
          "text": [
            "\n",
            "epoch:  26\n"
          ],
          "name": "stdout"
        },
        {
          "output_type": "stream",
          "text": [
            "100% (59 of 59) |########################| Elapsed Time: 0:00:00 Time:  0:00:00\n"
          ],
          "name": "stderr"
        },
        {
          "output_type": "stream",
          "text": [
            "\n",
            "epoch:  27\n"
          ],
          "name": "stdout"
        },
        {
          "output_type": "stream",
          "text": [
            "100% (59 of 59) |########################| Elapsed Time: 0:00:00 Time:  0:00:00\n"
          ],
          "name": "stderr"
        },
        {
          "output_type": "stream",
          "text": [
            "\n",
            "epoch:  28\n"
          ],
          "name": "stdout"
        },
        {
          "output_type": "stream",
          "text": [
            "100% (59 of 59) |########################| Elapsed Time: 0:00:00 Time:  0:00:00\n"
          ],
          "name": "stderr"
        },
        {
          "output_type": "stream",
          "text": [
            "\n",
            "epoch:  29\n"
          ],
          "name": "stdout"
        },
        {
          "output_type": "stream",
          "text": [
            "100% (59 of 59) |########################| Elapsed Time: 0:00:00 Time:  0:00:00\n"
          ],
          "name": "stderr"
        },
        {
          "output_type": "stream",
          "text": [
            "\n",
            "epoch:  30\n"
          ],
          "name": "stdout"
        },
        {
          "output_type": "stream",
          "text": [
            "100% (59 of 59) |########################| Elapsed Time: 0:00:00 Time:  0:00:00\n"
          ],
          "name": "stderr"
        },
        {
          "output_type": "display_data",
          "data": {
            "image/png": "[encoded data removed]",
            "text/plain": [
              "<Figure size 432x288 with 1 Axes>"
            ]
          },
          "metadata": {
            "tags": [],
            "needs_background": "light"
          }
        },
        {
          "output_type": "display_data",
          "data": {
            "image/png": "[encoded data removed]",
            "text/plain": [
              "<Figure size 432x288 with 1 Axes>"
            ]
          },
          "metadata": {
            "tags": [],
            "needs_background": "light"
          }
        },
        {
          "output_type": "stream",
          "text": [
            "\n",
            "epoch:  31\n"
          ],
          "name": "stdout"
        },
        {
          "output_type": "stream",
          "text": [
            "100% (59 of 59) |########################| Elapsed Time: 0:00:00 Time:  0:00:00\n"
          ],
          "name": "stderr"
        },
        {
          "output_type": "stream",
          "text": [
            "best_acc 0.9757\n",
            "\n",
            "epoch:  0\n"
          ],
          "name": "stdout"
        },
        {
          "output_type": "stream",
          "text": [
            "100% (59 of 59) |########################| Elapsed Time: 0:00:00 Time:  0:00:00\n"
          ],
          "name": "stderr"
        },
        {
          "output_type": "stream",
          "text": [
            "\n",
            "epoch:  1\n"
          ],
          "name": "stdout"
        },
        {
          "output_type": "stream",
          "text": [
            "100% (59 of 59) |########################| Elapsed Time: 0:00:00 Time:  0:00:00\n"
          ],
          "name": "stderr"
        },
        {
          "output_type": "stream",
          "text": [
            "\n",
            "epoch:  2\n"
          ],
          "name": "stdout"
        },
        {
          "output_type": "stream",
          "text": [
            "100% (59 of 59) |########################| Elapsed Time: 0:00:00 Time:  0:00:00\n"
          ],
          "name": "stderr"
        },
        {
          "output_type": "stream",
          "text": [
            "\n",
            "epoch:  3\n"
          ],
          "name": "stdout"
        },
        {
          "output_type": "stream",
          "text": [
            "100% (59 of 59) |########################| Elapsed Time: 0:00:00 Time:  0:00:00\n"
          ],
          "name": "stderr"
        },
        {
          "output_type": "stream",
          "text": [
            "\n",
            "epoch:  4\n"
          ],
          "name": "stdout"
        },
        {
          "output_type": "stream",
          "text": [
            "100% (59 of 59) |########################| Elapsed Time: 0:00:00 Time:  0:00:00\n"
          ],
          "name": "stderr"
        },
        {
          "output_type": "stream",
          "text": [
            "\n",
            "epoch:  5\n"
          ],
          "name": "stdout"
        },
        {
          "output_type": "stream",
          "text": [
            "100% (59 of 59) |########################| Elapsed Time: 0:00:00 Time:  0:00:00\n"
          ],
          "name": "stderr"
        },
        {
          "output_type": "stream",
          "text": [
            "\n",
            "epoch:  6\n"
          ],
          "name": "stdout"
        },
        {
          "output_type": "stream",
          "text": [
            "100% (59 of 59) |########################| Elapsed Time: 0:00:00 Time:  0:00:00\n"
          ],
          "name": "stderr"
        },
        {
          "output_type": "stream",
          "text": [
            "\n",
            "epoch:  7\n"
          ],
          "name": "stdout"
        },
        {
          "output_type": "stream",
          "text": [
            "100% (59 of 59) |########################| Elapsed Time: 0:00:00 Time:  0:00:00\n"
          ],
          "name": "stderr"
        },
        {
          "output_type": "stream",
          "text": [
            "\n",
            "epoch:  8\n"
          ],
          "name": "stdout"
        },
        {
          "output_type": "stream",
          "text": [
            "100% (59 of 59) |########################| Elapsed Time: 0:00:00 Time:  0:00:00\n"
          ],
          "name": "stderr"
        },
        {
          "output_type": "stream",
          "text": [
            "\n",
            "epoch:  9\n"
          ],
          "name": "stdout"
        },
        {
          "output_type": "stream",
          "text": [
            "100% (59 of 59) |########################| Elapsed Time: 0:00:00 Time:  0:00:00\n"
          ],
          "name": "stderr"
        },
        {
          "output_type": "stream",
          "text": [
            "\n",
            "epoch:  10\n"
          ],
          "name": "stdout"
        },
        {
          "output_type": "stream",
          "text": [
            "100% (59 of 59) |########################| Elapsed Time: 0:00:00 Time:  0:00:00\n"
          ],
          "name": "stderr"
        },
        {
          "output_type": "display_data",
          "data": {
            "image/png": "[encoded data removed]",
            "text/plain": [
              "<Figure size 432x288 with 1 Axes>"
            ]
          },
          "metadata": {
            "tags": [],
            "needs_background": "light"
          }
        },
        {
          "output_type": "display_data",
          "data": {
            "image/png": "[encoded data removed]",
            "text/plain": [
              "<Figure size 432x288 with 1 Axes>"
            ]
          },
          "metadata": {
            "tags": [],
            "needs_background": "light"
          }
        },
        {
          "output_type": "stream",
          "text": [
            "\n",
            "epoch:  11\n"
          ],
          "name": "stdout"
        },
        {
          "output_type": "stream",
          "text": [
            "100% (59 of 59) |########################| Elapsed Time: 0:00:00 Time:  0:00:00\n"
          ],
          "name": "stderr"
        },
        {
          "output_type": "stream",
          "text": [
            "\n",
            "epoch:  12\n"
          ],
          "name": "stdout"
        },
        {
          "output_type": "stream",
          "text": [
            "100% (59 of 59) |########################| Elapsed Time: 0:00:00 Time:  0:00:00\n"
          ],
          "name": "stderr"
        },
        {
          "output_type": "stream",
          "text": [
            "\n",
            "epoch:  13\n"
          ],
          "name": "stdout"
        },
        {
          "output_type": "stream",
          "text": [
            "100% (59 of 59) |########################| Elapsed Time: 0:00:00 Time:  0:00:00\n"
          ],
          "name": "stderr"
        },
        {
          "output_type": "stream",
          "text": [
            "\n",
            "epoch:  14\n"
          ],
          "name": "stdout"
        },
        {
          "output_type": "stream",
          "text": [
            "100% (59 of 59) |########################| Elapsed Time: 0:00:00 Time:  0:00:00\n"
          ],
          "name": "stderr"
        },
        {
          "output_type": "stream",
          "text": [
            "\n",
            "epoch:  15\n"
          ],
          "name": "stdout"
        },
        {
          "output_type": "stream",
          "text": [
            "100% (59 of 59) |########################| Elapsed Time: 0:00:00 Time:  0:00:00\n"
          ],
          "name": "stderr"
        },
        {
          "output_type": "stream",
          "text": [
            "\n",
            "epoch:  16\n"
          ],
          "name": "stdout"
        },
        {
          "output_type": "stream",
          "text": [
            "100% (59 of 59) |########################| Elapsed Time: 0:00:00 Time:  0:00:00\n"
          ],
          "name": "stderr"
        },
        {
          "output_type": "stream",
          "text": [
            "\n",
            "epoch:  17\n"
          ],
          "name": "stdout"
        },
        {
          "output_type": "stream",
          "text": [
            "100% (59 of 59) |########################| Elapsed Time: 0:00:00 Time:  0:00:00\n"
          ],
          "name": "stderr"
        },
        {
          "output_type": "stream",
          "text": [
            "\n",
            "epoch:  18\n"
          ],
          "name": "stdout"
        },
        {
          "output_type": "stream",
          "text": [
            "100% (59 of 59) |########################| Elapsed Time: 0:00:00 Time:  0:00:00\n"
          ],
          "name": "stderr"
        },
        {
          "output_type": "stream",
          "text": [
            "\n",
            "epoch:  19\n"
          ],
          "name": "stdout"
        },
        {
          "output_type": "stream",
          "text": [
            "100% (59 of 59) |########################| Elapsed Time: 0:00:00 Time:  0:00:00\n"
          ],
          "name": "stderr"
        },
        {
          "output_type": "stream",
          "text": [
            "\n",
            "epoch:  20\n"
          ],
          "name": "stdout"
        },
        {
          "output_type": "stream",
          "text": [
            "100% (59 of 59) |########################| Elapsed Time: 0:00:00 Time:  0:00:00\n"
          ],
          "name": "stderr"
        },
        {
          "output_type": "display_data",
          "data": {
            "image/png": "[encoded data removed]",
            "text/plain": [
              "<Figure size 432x288 with 1 Axes>"
            ]
          },
          "metadata": {
            "tags": [],
            "needs_background": "light"
          }
        },
        {
          "output_type": "display_data",
          "data": {
            "image/png": "[encoded data removed]",
            "text/plain": [
              "<Figure size 432x288 with 1 Axes>"
            ]
          },
          "metadata": {
            "tags": [],
            "needs_background": "light"
          }
        },
        {
          "output_type": "stream",
          "text": [
            "\n",
            "epoch:  21\n"
          ],
          "name": "stdout"
        },
        {
          "output_type": "stream",
          "text": [
            "100% (59 of 59) |########################| Elapsed Time: 0:00:00 Time:  0:00:00\n"
          ],
          "name": "stderr"
        },
        {
          "output_type": "stream",
          "text": [
            "\n",
            "epoch:  22\n"
          ],
          "name": "stdout"
        },
        {
          "output_type": "stream",
          "text": [
            "100% (59 of 59) |########################| Elapsed Time: 0:00:00 Time:  0:00:00\n"
          ],
          "name": "stderr"
        },
        {
          "output_type": "stream",
          "text": [
            "\n",
            "epoch:  23\n"
          ],
          "name": "stdout"
        },
        {
          "output_type": "stream",
          "text": [
            "100% (59 of 59) |########################| Elapsed Time: 0:00:00 Time:  0:00:00\n"
          ],
          "name": "stderr"
        },
        {
          "output_type": "stream",
          "text": [
            "\n",
            "epoch:  24\n"
          ],
          "name": "stdout"
        },
        {
          "output_type": "stream",
          "text": [
            "100% (59 of 59) |########################| Elapsed Time: 0:00:00 Time:  0:00:00\n"
          ],
          "name": "stderr"
        },
        {
          "output_type": "stream",
          "text": [
            "\n",
            "epoch:  25\n"
          ],
          "name": "stdout"
        },
        {
          "output_type": "stream",
          "text": [
            "100% (59 of 59) |########################| Elapsed Time: 0:00:00 Time:  0:00:00\n"
          ],
          "name": "stderr"
        },
        {
          "output_type": "stream",
          "text": [
            "\n",
            "epoch:  26\n"
          ],
          "name": "stdout"
        },
        {
          "output_type": "stream",
          "text": [
            "100% (59 of 59) |########################| Elapsed Time: 0:00:00 Time:  0:00:00\n"
          ],
          "name": "stderr"
        },
        {
          "output_type": "stream",
          "text": [
            "\n",
            "epoch:  27\n"
          ],
          "name": "stdout"
        },
        {
          "output_type": "stream",
          "text": [
            "100% (59 of 59) |########################| Elapsed Time: 0:00:00 Time:  0:00:00\n"
          ],
          "name": "stderr"
        },
        {
          "output_type": "stream",
          "text": [
            "\n",
            "epoch:  28\n"
          ],
          "name": "stdout"
        },
        {
          "output_type": "stream",
          "text": [
            "100% (59 of 59) |########################| Elapsed Time: 0:00:00 Time:  0:00:00\n"
          ],
          "name": "stderr"
        },
        {
          "output_type": "stream",
          "text": [
            "\n",
            "epoch:  29\n"
          ],
          "name": "stdout"
        },
        {
          "output_type": "stream",
          "text": [
            "100% (59 of 59) |########################| Elapsed Time: 0:00:00 Time:  0:00:00\n"
          ],
          "name": "stderr"
        },
        {
          "output_type": "stream",
          "text": [
            "\n",
            "epoch:  30\n"
          ],
          "name": "stdout"
        },
        {
          "output_type": "stream",
          "text": [
            "100% (59 of 59) |########################| Elapsed Time: 0:00:00 Time:  0:00:00\n"
          ],
          "name": "stderr"
        },
        {
          "output_type": "display_data",
          "data": {
            "image/png": "[encoded data removed]",
            "text/plain": [
              "<Figure size 432x288 with 1 Axes>"
            ]
          },
          "metadata": {
            "tags": [],
            "needs_background": "light"
          }
        },
        {
          "output_type": "display_data",
          "data": {
            "image/png": "[encoded data removed]",
            "text/plain": [
              "<Figure size 432x288 with 1 Axes>"
            ]
          },
          "metadata": {
            "tags": [],
            "needs_background": "light"
          }
        },
        {
          "output_type": "stream",
          "text": [
            "\n",
            "epoch:  31\n"
          ],
          "name": "stdout"
        },
        {
          "output_type": "stream",
          "text": [
            "100% (59 of 59) |########################| Elapsed Time: 0:00:00 Time:  0:00:00\n"
          ],
          "name": "stderr"
        },
        {
          "output_type": "stream",
          "text": [
            "best_acc 0.97\n",
            "\n",
            "epoch:  0\n"
          ],
          "name": "stdout"
        },
        {
          "output_type": "stream",
          "text": [
            "100% (59 of 59) |########################| Elapsed Time: 0:00:00 Time:  0:00:00\n"
          ],
          "name": "stderr"
        },
        {
          "output_type": "stream",
          "text": [
            "\n",
            "epoch:  1\n"
          ],
          "name": "stdout"
        },
        {
          "output_type": "stream",
          "text": [
            "100% (59 of 59) |########################| Elapsed Time: 0:00:00 Time:  0:00:00\n"
          ],
          "name": "stderr"
        },
        {
          "output_type": "stream",
          "text": [
            "\n",
            "epoch:  2\n"
          ],
          "name": "stdout"
        },
        {
          "output_type": "stream",
          "text": [
            "100% (59 of 59) |########################| Elapsed Time: 0:00:00 Time:  0:00:00\n"
          ],
          "name": "stderr"
        },
        {
          "output_type": "stream",
          "text": [
            "\n",
            "epoch:  3\n"
          ],
          "name": "stdout"
        },
        {
          "output_type": "stream",
          "text": [
            "100% (59 of 59) |########################| Elapsed Time: 0:00:00 Time:  0:00:00\n"
          ],
          "name": "stderr"
        },
        {
          "output_type": "stream",
          "text": [
            "\n",
            "epoch:  4\n"
          ],
          "name": "stdout"
        },
        {
          "output_type": "stream",
          "text": [
            "100% (59 of 59) |########################| Elapsed Time: 0:00:00 Time:  0:00:00\n"
          ],
          "name": "stderr"
        },
        {
          "output_type": "stream",
          "text": [
            "\n",
            "epoch:  5\n"
          ],
          "name": "stdout"
        },
        {
          "output_type": "stream",
          "text": [
            "100% (59 of 59) |########################| Elapsed Time: 0:00:00 Time:  0:00:00\n"
          ],
          "name": "stderr"
        },
        {
          "output_type": "stream",
          "text": [
            "\n",
            "epoch:  6\n"
          ],
          "name": "stdout"
        },
        {
          "output_type": "stream",
          "text": [
            "100% (59 of 59) |########################| Elapsed Time: 0:00:00 Time:  0:00:00\n"
          ],
          "name": "stderr"
        },
        {
          "output_type": "stream",
          "text": [
            "\n",
            "epoch:  7\n"
          ],
          "name": "stdout"
        },
        {
          "output_type": "stream",
          "text": [
            "100% (59 of 59) |########################| Elapsed Time: 0:00:00 Time:  0:00:00\n"
          ],
          "name": "stderr"
        },
        {
          "output_type": "stream",
          "text": [
            "\n",
            "epoch:  8\n"
          ],
          "name": "stdout"
        },
        {
          "output_type": "stream",
          "text": [
            "100% (59 of 59) |########################| Elapsed Time: 0:00:00 Time:  0:00:00\n"
          ],
          "name": "stderr"
        },
        {
          "output_type": "stream",
          "text": [
            "\n",
            "epoch:  9\n"
          ],
          "name": "stdout"
        },
        {
          "output_type": "stream",
          "text": [
            "100% (59 of 59) |########################| Elapsed Time: 0:00:00 Time:  0:00:00\n"
          ],
          "name": "stderr"
        },
        {
          "output_type": "stream",
          "text": [
            "\n",
            "epoch:  10\n"
          ],
          "name": "stdout"
        },
        {
          "output_type": "stream",
          "text": [
            "100% (59 of 59) |########################| Elapsed Time: 0:00:00 Time:  0:00:00\n"
          ],
          "name": "stderr"
        },
        {
          "output_type": "display_data",
          "data": {
            "image/png": "[encoded data removed]",
            "text/plain": [
              "<Figure size 432x288 with 1 Axes>"
            ]
          },
          "metadata": {
            "tags": [],
            "needs_background": "light"
          }
        },
        {
          "output_type": "display_data",
          "data": {
            "image/png": "[encoded data removed]",
            "text/plain": [
              "<Figure size 432x288 with 1 Axes>"
            ]
          },
          "metadata": {
            "tags": [],
            "needs_background": "light"
          }
        },
        {
          "output_type": "stream",
          "text": [
            "\n",
            "epoch:  11\n"
          ],
          "name": "stdout"
        },
        {
          "output_type": "stream",
          "text": [
            "100% (59 of 59) |########################| Elapsed Time: 0:00:00 Time:  0:00:00\n"
          ],
          "name": "stderr"
        },
        {
          "output_type": "stream",
          "text": [
            "\n",
            "epoch:  12\n"
          ],
          "name": "stdout"
        },
        {
          "output_type": "stream",
          "text": [
            "100% (59 of 59) |########################| Elapsed Time: 0:00:00 Time:  0:00:00\n"
          ],
          "name": "stderr"
        },
        {
          "output_type": "stream",
          "text": [
            "\n",
            "epoch:  13\n"
          ],
          "name": "stdout"
        },
        {
          "output_type": "stream",
          "text": [
            "100% (59 of 59) |########################| Elapsed Time: 0:00:00 Time:  0:00:00\n"
          ],
          "name": "stderr"
        },
        {
          "output_type": "stream",
          "text": [
            "\n",
            "epoch:  14\n"
          ],
          "name": "stdout"
        },
        {
          "output_type": "stream",
          "text": [
            "100% (59 of 59) |########################| Elapsed Time: 0:00:00 Time:  0:00:00\n"
          ],
          "name": "stderr"
        },
        {
          "output_type": "stream",
          "text": [
            "\n",
            "epoch:  15\n"
          ],
          "name": "stdout"
        },
        {
          "output_type": "stream",
          "text": [
            "100% (59 of 59) |########################| Elapsed Time: 0:00:00 Time:  0:00:00\n"
          ],
          "name": "stderr"
        },
        {
          "output_type": "stream",
          "text": [
            "\n",
            "epoch:  16\n"
          ],
          "name": "stdout"
        },
        {
          "output_type": "stream",
          "text": [
            "100% (59 of 59) |########################| Elapsed Time: 0:00:00 Time:  0:00:00\n"
          ],
          "name": "stderr"
        },
        {
          "output_type": "stream",
          "text": [
            "\n",
            "epoch:  17\n"
          ],
          "name": "stdout"
        },
        {
          "output_type": "stream",
          "text": [
            "100% (59 of 59) |########################| Elapsed Time: 0:00:00 Time:  0:00:00\n"
          ],
          "name": "stderr"
        },
        {
          "output_type": "stream",
          "text": [
            "\n",
            "epoch:  18\n"
          ],
          "name": "stdout"
        },
        {
          "output_type": "stream",
          "text": [
            "100% (59 of 59) |########################| Elapsed Time: 0:00:00 Time:  0:00:00\n"
          ],
          "name": "stderr"
        },
        {
          "output_type": "stream",
          "text": [
            "\n",
            "epoch:  19\n"
          ],
          "name": "stdout"
        },
        {
          "output_type": "stream",
          "text": [
            "100% (59 of 59) |########################| Elapsed Time: 0:00:00 Time:  0:00:00\n"
          ],
          "name": "stderr"
        },
        {
          "output_type": "stream",
          "text": [
            "\n",
            "epoch:  20\n"
          ],
          "name": "stdout"
        },
        {
          "output_type": "stream",
          "text": [
            "100% (59 of 59) |########################| Elapsed Time: 0:00:00 Time:  0:00:00\n"
          ],
          "name": "stderr"
        },
        {
          "output_type": "display_data",
          "data": {
            "image/png": "[encoded data removed]",
            "text/plain": [
              "<Figure size 432x288 with 1 Axes>"
            ]
          },
          "metadata": {
            "tags": [],
            "needs_background": "light"
          }
        },
        {
          "output_type": "display_data",
          "data": {
            "image/png": "[encoded data removed]",
            "text/plain": [
              "<Figure size 432x288 with 1 Axes>"
            ]
          },
          "metadata": {
            "tags": [],
            "needs_background": "light"
          }
        },
        {
          "output_type": "stream",
          "text": [
            "\n",
            "epoch:  21\n"
          ],
          "name": "stdout"
        },
        {
          "output_type": "stream",
          "text": [
            "100% (59 of 59) |########################| Elapsed Time: 0:00:00 Time:  0:00:00\n"
          ],
          "name": "stderr"
        },
        {
          "output_type": "stream",
          "text": [
            "\n",
            "epoch:  22\n"
          ],
          "name": "stdout"
        },
        {
          "output_type": "stream",
          "text": [
            "100% (59 of 59) |########################| Elapsed Time: 0:00:00 Time:  0:00:00\n"
          ],
          "name": "stderr"
        },
        {
          "output_type": "stream",
          "text": [
            "\n",
            "epoch:  23\n"
          ],
          "name": "stdout"
        },
        {
          "output_type": "stream",
          "text": [
            "100% (59 of 59) |########################| Elapsed Time: 0:00:00 Time:  0:00:00\n"
          ],
          "name": "stderr"
        },
        {
          "output_type": "stream",
          "text": [
            "\n",
            "epoch:  24\n"
          ],
          "name": "stdout"
        },
        {
          "output_type": "stream",
          "text": [
            "100% (59 of 59) |########################| Elapsed Time: 0:00:00 Time:  0:00:00\n"
          ],
          "name": "stderr"
        },
        {
          "output_type": "stream",
          "text": [
            "\n",
            "epoch:  25\n"
          ],
          "name": "stdout"
        },
        {
          "output_type": "stream",
          "text": [
            "100% (59 of 59) |########################| Elapsed Time: 0:00:00 Time:  0:00:00\n"
          ],
          "name": "stderr"
        },
        {
          "output_type": "stream",
          "text": [
            "\n",
            "epoch:  26\n"
          ],
          "name": "stdout"
        },
        {
          "output_type": "stream",
          "text": [
            "100% (59 of 59) |########################| Elapsed Time: 0:00:00 Time:  0:00:00\n"
          ],
          "name": "stderr"
        },
        {
          "output_type": "stream",
          "text": [
            "\n",
            "epoch:  27\n"
          ],
          "name": "stdout"
        },
        {
          "output_type": "stream",
          "text": [
            "100% (59 of 59) |########################| Elapsed Time: 0:00:00 Time:  0:00:00\n"
          ],
          "name": "stderr"
        },
        {
          "output_type": "stream",
          "text": [
            "\n",
            "epoch:  28\n"
          ],
          "name": "stdout"
        },
        {
          "output_type": "stream",
          "text": [
            "100% (59 of 59) |########################| Elapsed Time: 0:00:00 Time:  0:00:00\n"
          ],
          "name": "stderr"
        },
        {
          "output_type": "stream",
          "text": [
            "\n",
            "epoch:  29\n"
          ],
          "name": "stdout"
        },
        {
          "output_type": "stream",
          "text": [
            "100% (59 of 59) |########################| Elapsed Time: 0:00:00 Time:  0:00:00\n"
          ],
          "name": "stderr"
        },
        {
          "output_type": "stream",
          "text": [
            "\n",
            "epoch:  30\n"
          ],
          "name": "stdout"
        },
        {
          "output_type": "stream",
          "text": [
            "100% (59 of 59) |########################| Elapsed Time: 0:00:00 Time:  0:00:00\n"
          ],
          "name": "stderr"
        },
        {
          "output_type": "display_data",
          "data": {
            "image/png": "[encoded data removed]",
            "text/plain": [
              "<Figure size 432x288 with 1 Axes>"
            ]
          },
          "metadata": {
            "tags": [],
            "needs_background": "light"
          }
        },
        {
          "output_type": "display_data",
          "data": {
            "image/png": "[encoded data removed]",
            "text/plain": [
              "<Figure size 432x288 with 1 Axes>"
            ]
          },
          "metadata": {
            "tags": [],
            "needs_background": "light"
          }
        },
        {
          "output_type": "stream",
          "text": [
            "\n",
            "epoch:  31\n"
          ],
          "name": "stdout"
        },
        {
          "output_type": "stream",
          "text": [
            "100% (59 of 59) |########################| Elapsed Time: 0:00:00 Time:  0:00:00\n"
          ],
          "name": "stderr"
        },
        {
          "output_type": "stream",
          "text": [
            "best_acc 0.972\n",
            "\n",
            "epoch:  0\n"
          ],
          "name": "stdout"
        },
        {
          "output_type": "stream",
          "text": [
            "100% (59 of 59) |########################| Elapsed Time: 0:00:00 Time:  0:00:00\n"
          ],
          "name": "stderr"
        },
        {
          "output_type": "stream",
          "text": [
            "\n",
            "epoch:  1\n"
          ],
          "name": "stdout"
        },
        {
          "output_type": "stream",
          "text": [
            "100% (59 of 59) |########################| Elapsed Time: 0:00:00 Time:  0:00:00\n"
          ],
          "name": "stderr"
        },
        {
          "output_type": "stream",
          "text": [
            "\n",
            "epoch:  2\n"
          ],
          "name": "stdout"
        },
        {
          "output_type": "stream",
          "text": [
            "100% (59 of 59) |########################| Elapsed Time: 0:00:00 Time:  0:00:00\n"
          ],
          "name": "stderr"
        },
        {
          "output_type": "stream",
          "text": [
            "\n",
            "epoch:  3\n"
          ],
          "name": "stdout"
        },
        {
          "output_type": "stream",
          "text": [
            "100% (59 of 59) |########################| Elapsed Time: 0:00:00 Time:  0:00:00\n"
          ],
          "name": "stderr"
        },
        {
          "output_type": "stream",
          "text": [
            "\n",
            "epoch:  4\n"
          ],
          "name": "stdout"
        },
        {
          "output_type": "stream",
          "text": [
            "100% (59 of 59) |########################| Elapsed Time: 0:00:00 Time:  0:00:00\n"
          ],
          "name": "stderr"
        },
        {
          "output_type": "stream",
          "text": [
            "\n",
            "epoch:  5\n"
          ],
          "name": "stdout"
        },
        {
          "output_type": "stream",
          "text": [
            "100% (59 of 59) |########################| Elapsed Time: 0:00:00 Time:  0:00:00\n"
          ],
          "name": "stderr"
        },
        {
          "output_type": "stream",
          "text": [
            "\n",
            "epoch:  6\n"
          ],
          "name": "stdout"
        },
        {
          "output_type": "stream",
          "text": [
            "100% (59 of 59) |########################| Elapsed Time: 0:00:00 Time:  0:00:00\n"
          ],
          "name": "stderr"
        },
        {
          "output_type": "stream",
          "text": [
            "\n",
            "epoch:  7\n"
          ],
          "name": "stdout"
        },
        {
          "output_type": "stream",
          "text": [
            "100% (59 of 59) |########################| Elapsed Time: 0:00:00 Time:  0:00:00\n"
          ],
          "name": "stderr"
        },
        {
          "output_type": "stream",
          "text": [
            "\n",
            "epoch:  8\n"
          ],
          "name": "stdout"
        },
        {
          "output_type": "stream",
          "text": [
            "100% (59 of 59) |########################| Elapsed Time: 0:00:00 Time:  0:00:00\n"
          ],
          "name": "stderr"
        },
        {
          "output_type": "stream",
          "text": [
            "\n",
            "epoch:  9\n"
          ],
          "name": "stdout"
        },
        {
          "output_type": "stream",
          "text": [
            "100% (59 of 59) |########################| Elapsed Time: 0:00:00 Time:  0:00:00\n"
          ],
          "name": "stderr"
        },
        {
          "output_type": "stream",
          "text": [
            "\n",
            "epoch:  10\n"
          ],
          "name": "stdout"
        },
        {
          "output_type": "stream",
          "text": [
            "100% (59 of 59) |########################| Elapsed Time: 0:00:00 Time:  0:00:00\n"
          ],
          "name": "stderr"
        },
        {
          "output_type": "display_data",
          "data": {
            "image/png": "[encoded data removed]",
            "text/plain": [
              "<Figure size 432x288 with 1 Axes>"
            ]
          },
          "metadata": {
            "tags": [],
            "needs_background": "light"
          }
        },
        {
          "output_type": "display_data",
          "data": {
            "image/png": "[encoded data removed]",
            "text/plain": [
              "<Figure size 432x288 with 1 Axes>"
            ]
          },
          "metadata": {
            "tags": [],
            "needs_background": "light"
          }
        },
        {
          "output_type": "stream",
          "text": [
            "\n",
            "epoch:  11\n"
          ],
          "name": "stdout"
        },
        {
          "output_type": "stream",
          "text": [
            "100% (59 of 59) |########################| Elapsed Time: 0:00:00 Time:  0:00:00\n"
          ],
          "name": "stderr"
        },
        {
          "output_type": "stream",
          "text": [
            "\n",
            "epoch:  12\n"
          ],
          "name": "stdout"
        },
        {
          "output_type": "stream",
          "text": [
            "100% (59 of 59) |########################| Elapsed Time: 0:00:00 Time:  0:00:00\n"
          ],
          "name": "stderr"
        },
        {
          "output_type": "stream",
          "text": [
            "\n",
            "epoch:  13\n"
          ],
          "name": "stdout"
        },
        {
          "output_type": "stream",
          "text": [
            "100% (59 of 59) |########################| Elapsed Time: 0:00:00 Time:  0:00:00\n"
          ],
          "name": "stderr"
        },
        {
          "output_type": "stream",
          "text": [
            "\n",
            "epoch:  14\n"
          ],
          "name": "stdout"
        },
        {
          "output_type": "stream",
          "text": [
            "100% (59 of 59) |########################| Elapsed Time: 0:00:00 Time:  0:00:00\n"
          ],
          "name": "stderr"
        },
        {
          "output_type": "stream",
          "text": [
            "\n",
            "epoch:  15\n"
          ],
          "name": "stdout"
        },
        {
          "output_type": "stream",
          "text": [
            "100% (59 of 59) |########################| Elapsed Time: 0:00:00 Time:  0:00:00\n"
          ],
          "name": "stderr"
        },
        {
          "output_type": "stream",
          "text": [
            "\n",
            "epoch:  16\n"
          ],
          "name": "stdout"
        },
        {
          "output_type": "stream",
          "text": [
            "100% (59 of 59) |########################| Elapsed Time: 0:00:00 Time:  0:00:00\n"
          ],
          "name": "stderr"
        },
        {
          "output_type": "stream",
          "text": [
            "\n",
            "epoch:  17\n"
          ],
          "name": "stdout"
        },
        {
          "output_type": "stream",
          "text": [
            "100% (59 of 59) |########################| Elapsed Time: 0:00:00 Time:  0:00:00\n"
          ],
          "name": "stderr"
        },
        {
          "output_type": "stream",
          "text": [
            "\n",
            "epoch:  18\n"
          ],
          "name": "stdout"
        },
        {
          "output_type": "stream",
          "text": [
            "100% (59 of 59) |########################| Elapsed Time: 0:00:00 Time:  0:00:00\n"
          ],
          "name": "stderr"
        },
        {
          "output_type": "stream",
          "text": [
            "\n",
            "epoch:  19\n"
          ],
          "name": "stdout"
        },
        {
          "output_type": "stream",
          "text": [
            "100% (59 of 59) |########################| Elapsed Time: 0:00:00 Time:  0:00:00\n"
          ],
          "name": "stderr"
        },
        {
          "output_type": "stream",
          "text": [
            "\n",
            "epoch:  20\n"
          ],
          "name": "stdout"
        },
        {
          "output_type": "stream",
          "text": [
            "100% (59 of 59) |########################| Elapsed Time: 0:00:00 Time:  0:00:00\n"
          ],
          "name": "stderr"
        },
        {
          "output_type": "display_data",
          "data": {
            "image/png": "[encoded data removed]",
            "text/plain": [
              "<Figure size 432x288 with 1 Axes>"
            ]
          },
          "metadata": {
            "tags": [],
            "needs_background": "light"
          }
        },
        {
          "output_type": "display_data",
          "data": {
            "image/png": "[encoded data removed]",
            "text/plain": [
              "<Figure size 432x288 with 1 Axes>"
            ]
          },
          "metadata": {
            "tags": [],
            "needs_background": "light"
          }
        },
        {
          "output_type": "stream",
          "text": [
            "\n",
            "epoch:  21\n"
          ],
          "name": "stdout"
        },
        {
          "output_type": "stream",
          "text": [
            "100% (59 of 59) |########################| Elapsed Time: 0:00:00 Time:  0:00:00\n"
          ],
          "name": "stderr"
        },
        {
          "output_type": "stream",
          "text": [
            "\n",
            "epoch:  22\n"
          ],
          "name": "stdout"
        },
        {
          "output_type": "stream",
          "text": [
            "100% (59 of 59) |########################| Elapsed Time: 0:00:00 Time:  0:00:00\n"
          ],
          "name": "stderr"
        },
        {
          "output_type": "stream",
          "text": [
            "\n",
            "epoch:  23\n"
          ],
          "name": "stdout"
        },
        {
          "output_type": "stream",
          "text": [
            "100% (59 of 59) |########################| Elapsed Time: 0:00:00 Time:  0:00:00\n"
          ],
          "name": "stderr"
        },
        {
          "output_type": "stream",
          "text": [
            "\n",
            "epoch:  24\n"
          ],
          "name": "stdout"
        },
        {
          "output_type": "stream",
          "text": [
            "100% (59 of 59) |########################| Elapsed Time: 0:00:00 Time:  0:00:00\n"
          ],
          "name": "stderr"
        },
        {
          "output_type": "stream",
          "text": [
            "\n",
            "epoch:  25\n"
          ],
          "name": "stdout"
        },
        {
          "output_type": "stream",
          "text": [
            "100% (59 of 59) |########################| Elapsed Time: 0:00:00 Time:  0:00:00\n"
          ],
          "name": "stderr"
        },
        {
          "output_type": "stream",
          "text": [
            "\n",
            "epoch:  26\n"
          ],
          "name": "stdout"
        },
        {
          "output_type": "stream",
          "text": [
            "100% (59 of 59) |########################| Elapsed Time: 0:00:00 Time:  0:00:00\n"
          ],
          "name": "stderr"
        },
        {
          "output_type": "stream",
          "text": [
            "\n",
            "epoch:  27\n"
          ],
          "name": "stdout"
        },
        {
          "output_type": "stream",
          "text": [
            "100% (59 of 59) |########################| Elapsed Time: 0:00:00 Time:  0:00:00\n"
          ],
          "name": "stderr"
        },
        {
          "output_type": "stream",
          "text": [
            "\n",
            "epoch:  28\n"
          ],
          "name": "stdout"
        },
        {
          "output_type": "stream",
          "text": [
            "100% (59 of 59) |########################| Elapsed Time: 0:00:00 Time:  0:00:00\n"
          ],
          "name": "stderr"
        },
        {
          "output_type": "stream",
          "text": [
            "\n",
            "epoch:  29\n"
          ],
          "name": "stdout"
        },
        {
          "output_type": "stream",
          "text": [
            "100% (59 of 59) |########################| Elapsed Time: 0:00:00 Time:  0:00:00\n"
          ],
          "name": "stderr"
        },
        {
          "output_type": "stream",
          "text": [
            "\n",
            "epoch:  30\n"
          ],
          "name": "stdout"
        },
        {
          "output_type": "stream",
          "text": [
            "100% (59 of 59) |########################| Elapsed Time: 0:00:00 Time:  0:00:00\n"
          ],
          "name": "stderr"
        },
        {
          "output_type": "display_data",
          "data": {
            "image/png": "[encoded data removed]",
            "text/plain": [
              "<Figure size 432x288 with 1 Axes>"
            ]
          },
          "metadata": {
            "tags": [],
            "needs_background": "light"
          }
        },
        {
          "output_type": "display_data",
          "data": {
            "image/png": "[encoded data removed]",
            "text/plain": [
              "<Figure size 432x288 with 1 Axes>"
            ]
          },
          "metadata": {
            "tags": [],
            "needs_background": "light"
          }
        },
        {
          "output_type": "stream",
          "text": [
            "\n",
            "epoch:  31\n"
          ],
          "name": "stdout"
        },
        {
          "output_type": "stream",
          "text": [
            "100% (59 of 59) |########################| Elapsed Time: 0:00:00 Time:  0:00:00\n"
          ],
          "name": "stderr"
        },
        {
          "output_type": "stream",
          "text": [
            "best_acc 0.9731\n"
          ],
          "name": "stdout"
        }
      ]
    },
    {
      "cell_type": "code",
      "metadata": {
        "id": "Q8RAaqJJFAb-",
        "outputId": "80239004-53cc-4c03-cf49-944c09c86104",
        "colab": {
          "base_uri": "https://localhost:8080/",
          "height": 545
        }
      },
      "source": [
        "# plot loss\n",
        "plt.plot(history_list[0]['loss_val'],'', history_list[1]['loss_val'],'-', history_list[2]['loss_val'],'-', history_list[3]['loss_val'],'-')\n",
        "plt.title('Loss')\n",
        "plt.legend(['3-layers','4-layers','5-layers','6-layers'])\n",
        "plt.grid()\n",
        "plt.show()\n",
        "# plot accuracy\n",
        "plt.plot(history_list[0]['accuracy_val'],'', history_list[1]['accuracy_val'],'-', history_list[2]['accuracy_val'],'-', history_list[3]['accuracy_val'],'-')\n",
        "plt.title('Accuracy')\n",
        "plt.legend(['3-layers','4-layers','5-layers','6-layers'])\n",
        "plt.grid()\n",
        "plt.show()"
      ],
      "execution_count": null,
      "outputs": [
        {
          "output_type": "display_data",
          "data": {
            "image/png": "[encoded data removed]",
            "text/plain": [
              "<Figure size 432x288 with 1 Axes>"
            ]
          },
          "metadata": {
            "tags": [],
            "needs_background": "light"
          }
        },
        {
          "output_type": "display_data",
          "data": {
            "image/png": "[encoded data removed]",
            "text/plain": [
              "<Figure size 432x288 with 1 Axes>"
            ]
          },
          "metadata": {
            "tags": [],
            "needs_background": "light"
          }
        }
      ]
    }
  ]
}